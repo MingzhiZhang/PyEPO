{
 "cells": [
  {
   "cell_type": "markdown",
   "id": "ebb79cf0",
   "metadata": {},
   "source": [
    "# Optimization Model"
   ]
  },
  {
   "cell_type": "code",
   "execution_count": 1,
   "id": "a13701c2",
   "metadata": {},
   "outputs": [],
   "source": [
    "# set work dir if PyEPO is not installed\n",
    "import os\n",
    "os.chdir(\"../pkg\")"
   ]
  },
  {
   "cell_type": "markdown",
   "id": "1c786b61",
   "metadata": {},
   "source": [
    "PyEPO is an implementation that aims to support an end-to-end predict-then-optimize with linear objective function and unknown cost coefficients. The core component is the differentiable optimization solver, which is involved in updating the gradient of the cost coefficients with respect to the optimal solution.\n",
    "\n",
    "For ease of use, the implementation extends PyTorch's automatic function to construct the solver. As a result, users have the flexibility to select the solvers and algorithms and subsequently obtain the optimal solution while simultaneously computing the gradient.\n",
    "\n",
    "This tutorial will provide examples of building optimization models ``optModel`` with PyEPO."
   ]
  },
  {
   "cell_type": "markdown",
   "id": "1d22204c",
   "metadata": {},
   "source": [
    "## 1 Problem Example: Shortest Path "
   ]
  },
  {
   "cell_type": "markdown",
   "id": "687feac4",
   "metadata": {},
   "source": [
    "Consider a 5x5 grid network, represented as a weighted graph. The figure shows that each node has top, bottom, left, and right neighbors. We aim to find the shortest path from left top to right bottom."
   ]
  },
  {
   "cell_type": "markdown",
   "id": "d3b6d561",
   "metadata": {},
   "source": [
    "<img src=\"../images/shortestpath.png\" width=\"500\">"
   ]
  },
  {
   "cell_type": "markdown",
   "id": "66ed00fc",
   "metadata": {},
   "source": [
    "The weighted graph includes 25 nodes and 40 edges. The weights of the edges are the costs of the path. Let's set random weights."
   ]
  },
  {
   "cell_type": "code",
   "execution_count": 2,
   "id": "102b96aa",
   "metadata": {},
   "outputs": [],
   "source": [
    "import random\n",
    "# random seed\n",
    "random.seed(42)\n",
    "# set random cost for test\n",
    "cost = [random.random() for _ in range(40)]"
   ]
  },
  {
   "cell_type": "markdown",
   "id": "f740f6bb",
   "metadata": {},
   "source": [
    "## 2 Introducation to optModel "
   ]
  },
  {
   "cell_type": "markdown",
   "id": "86a5a7dd",
   "metadata": {},
   "source": [
    "``optModel`` is a module of PyEPO library. It is not a solver but serves as a container of a solver or an algorithm. This design allows for flexibility in the selection of solvers and algorithms by users. ``optModel`` treats these solvers as black boxes and provides interfaces ``_getModel``, ``setObj``, and ``solve``. Other modules of PyEPO can use ``optModel`` for tasks such as training and testing.\n",
    "\n",
    "Methods of ``optModel``:\n",
    "- ``_getModel``: Build and return optimization solver and corresponding decision variables.\n",
    "- ``setObj``: Give a cost vector to set the objective function.\n",
    "- ``solve``: Solve optimization problem and return optimal solution and objective value."
   ]
  },
  {
   "cell_type": "markdown",
   "id": "34d3dcc7",
   "metadata": {},
   "source": [
    "### 2.1 Build Model with NetworkX and Dijkstra Agorithm"
   ]
  },
  {
   "cell_type": "markdown",
   "id": "9999f97b",
   "metadata": {},
   "source": [
    "We can build the graph with NetworkX and uses Dijkstra’s method to compute the shortest weighted path between two nodes in a graph."
   ]
  },
  {
   "cell_type": "code",
   "execution_count": 3,
   "id": "4f13bef4",
   "metadata": {},
   "outputs": [
    {
     "name": "stdout",
     "output_type": "stream",
     "text": [
      "Auto-Sklearn cannot be imported.\n"
     ]
    }
   ],
   "source": [
    "import networkx as nx\n",
    "import numpy as np\n",
    "from pyepo.model.opt import optModel\n",
    "\n",
    "class myShortestPathModel1(optModel):\n",
    "\n",
    "    def __init__(self, grid):\n",
    "        \"\"\"\n",
    "        Args:\n",
    "            grid (tuple): size of grid network\n",
    "        \"\"\"\n",
    "        self.grid = grid\n",
    "        self.arcs = self._getArcs()\n",
    "        super().__init__()\n",
    "\n",
    "    def _getModel(self):\n",
    "        \"\"\"\n",
    "        A method to build model\n",
    "\n",
    "        Returns:\n",
    "            tuple: optimization model and variables\n",
    "        \"\"\"\n",
    "        # build graph as optimization model\n",
    "        g = nx.Graph()\n",
    "        # add arcs as variables\n",
    "        g.add_edges_from(self.arcs, cost=0)\n",
    "        return g, g.edges\n",
    "\n",
    "    def setObj(self, c):\n",
    "        \"\"\"\n",
    "        A method to set objective function\n",
    "\n",
    "        Args:\n",
    "            c (ndarray): cost of objective function\n",
    "        \"\"\"\n",
    "        # set weights for edges\n",
    "        for i, e in enumerate(self.arcs):\n",
    "            self._model.edges[e][\"cost\"] = c[i]\n",
    "\n",
    "    def solve(self):\n",
    "        \"\"\"\n",
    "        A method to solve model\n",
    "\n",
    "        Returns:\n",
    "            tuple: optimal solution (list) and objective value (float)\n",
    "        \"\"\"\n",
    "        # dijkstra\n",
    "        path = nx.shortest_path(self._model, weight=\"cost\", source=0, target=self.grid[0]*self.grid[1]-1)\n",
    "        # convert path into active edges\n",
    "        edges = []\n",
    "        u = 0\n",
    "        for v in path[1:]:\n",
    "            edges.append((u,v))\n",
    "            u = v\n",
    "        # init sol & obj\n",
    "        sol = np.zeros(self.num_cost)\n",
    "        obj = 0\n",
    "        # convert active edges into solution and obj\n",
    "        for i, e in enumerate(self.arcs):\n",
    "            if e in edges:\n",
    "                sol[i] = 1 # active edge\n",
    "                obj += self._model.edges[e][\"cost\"] # cost of active edge\n",
    "        return sol, obj\n",
    "\n",
    "    def _getArcs(self):\n",
    "        \"\"\"\n",
    "        A helper method to get list of arcs for grid network\n",
    "\n",
    "        Returns:\n",
    "            list: arcs\n",
    "        \"\"\"\n",
    "        arcs = []\n",
    "        for i in range(self.grid[0]):\n",
    "            # edges on rows\n",
    "            for j in range(self.grid[1] - 1):\n",
    "                v = i * self.grid[1] + j\n",
    "                arcs.append((v, v + 1))\n",
    "            # edges on columns\n",
    "            if i == self.grid[0] - 1:\n",
    "                continue\n",
    "            for j in range(self.grid[1]):\n",
    "                v = i * self.grid[1] + j\n",
    "                arcs.append((v, v + self.grid[1]))\n",
    "        return arcs"
   ]
  },
  {
   "cell_type": "code",
   "execution_count": 4,
   "id": "9e1c381b",
   "metadata": {},
   "outputs": [
    {
     "name": "stdout",
     "output_type": "stream",
     "text": [
      "Obj: 2.2869938328922332\n",
      "(0, 1)\n",
      "(1, 2)\n",
      "(2, 3)\n",
      "(3, 8)\n",
      "(8, 9)\n",
      "(9, 14)\n",
      "(14, 19)\n",
      "(19, 24)\n"
     ]
    }
   ],
   "source": [
    "# solve model\n",
    "optmodel = myShortestPathModel1(grid=(5,5)) # init model\n",
    "optmodel.setObj(cost) # set objective function\n",
    "sol, obj = optmodel.solve() # solve\n",
    "# print res\n",
    "print('Obj: {}'.format(obj))\n",
    "for i, e in enumerate(optmodel.arcs):\n",
    "    if sol[i] > 1e-3:\n",
    "        print(e)"
   ]
  },
  {
   "cell_type": "markdown",
   "id": "7a22c77a",
   "metadata": {},
   "source": [
    "### 2.2 Build Model with GurobiPy and Linear Programming"
   ]
  },
  {
   "cell_type": "markdown",
   "id": "6014f360",
   "metadata": {},
   "source": [
    "``optModel`` also allows users to employ optimization modeling languages such as GurobiPy and Pyomo. For example, with ``optGrbModel``, users can easily use Gurobi to create an LP model via overwriting ``_getModel``. Similarly, ``optGrbModel`` support Pyomo."
   ]
  },
  {
   "cell_type": "code",
   "execution_count": 5,
   "id": "e64fbf71",
   "metadata": {},
   "outputs": [],
   "source": [
    "import gurobipy as gp\n",
    "from gurobipy import GRB\n",
    "from pyepo.model.grb import optGrbModel\n",
    "\n",
    "class myShortestPathModel2(optGrbModel):\n",
    "\n",
    "    def __init__(self, grid):\n",
    "        \"\"\"\n",
    "        Args:\n",
    "            grid (tuple of int): size of grid network\n",
    "        \"\"\"\n",
    "        self.grid = grid\n",
    "        self.arcs = self._getArcs()\n",
    "        super().__init__()\n",
    "\n",
    "    def _getModel(self):\n",
    "        \"\"\"\n",
    "        A method to build Gurobi model\n",
    "\n",
    "        Returns:\n",
    "            tuple: optimization model and variables\n",
    "        \"\"\"\n",
    "        # ceate a model\n",
    "        m = gp.Model(\"shortest path\")\n",
    "        # varibles\n",
    "        x = m.addVars(self.arcs, name=\"x\")\n",
    "        # sense\n",
    "        m.modelSense = GRB.MINIMIZE\n",
    "        # constraints\n",
    "        for i in range(self.grid[0]):\n",
    "            for j in range(self.grid[1]):\n",
    "                v = i * self.grid[1] + j\n",
    "                expr = 0\n",
    "                for e in self.arcs:\n",
    "                    # flow in\n",
    "                    if v == e[1]:\n",
    "                        expr += x[e]\n",
    "                    # flow out\n",
    "                    elif v == e[0]:\n",
    "                        expr -= x[e]\n",
    "                # source\n",
    "                if i == 0 and j == 0:\n",
    "                    m.addConstr(expr == -1)\n",
    "                # sink\n",
    "                elif i == self.grid[0] - 1 and j == self.grid[0] - 1:\n",
    "                    m.addConstr(expr == 1)\n",
    "                # transition\n",
    "                else:\n",
    "                    m.addConstr(expr == 0)\n",
    "        return m, x\n",
    "    \n",
    "\n",
    "    def _getArcs(self):\n",
    "        \"\"\"\n",
    "        A helper method to get list of arcs for grid network\n",
    "\n",
    "        Returns:\n",
    "            list: arcs\n",
    "        \"\"\"\n",
    "        arcs = []\n",
    "        for i in range(self.grid[0]):\n",
    "            # edges on rows\n",
    "            for j in range(self.grid[1] - 1):\n",
    "                v = i * self.grid[1] + j\n",
    "                arcs.append((v, v + 1))\n",
    "            # edges in columns\n",
    "            if i == self.grid[0] - 1:\n",
    "                continue\n",
    "            for j in range(self.grid[1]):\n",
    "                v = i * self.grid[1] + j\n",
    "                arcs.append((v, v + self.grid[1]))\n",
    "        return arcs"
   ]
  },
  {
   "cell_type": "code",
   "execution_count": 6,
   "id": "a9e21c5c",
   "metadata": {},
   "outputs": [
    {
     "name": "stdout",
     "output_type": "stream",
     "text": [
      "Set parameter Username\n",
      "Academic license - for non-commercial use only - expires 2023-07-09\n",
      "Obj: 2.2869938328922332\n",
      "(0, 1)\n",
      "(1, 2)\n",
      "(2, 3)\n",
      "(3, 8)\n",
      "(8, 9)\n",
      "(9, 14)\n",
      "(14, 19)\n",
      "(19, 24)\n"
     ]
    }
   ],
   "source": [
    "# solve model\n",
    "optmodel = myShortestPathModel2(grid=(5,5)) # init model\n",
    "optmodel.setObj(cost) # set objective function\n",
    "sol, obj = optmodel.solve() # solve\n",
    "# print res\n",
    "print('Obj: {}'.format(obj))\n",
    "for i, e in enumerate(optmodel.arcs):\n",
    "    if sol[i] > 1e-3:\n",
    "        print(e)"
   ]
  },
  {
   "cell_type": "markdown",
   "id": "3ef9c3a6",
   "metadata": {},
   "source": [
    "### 2.3  Pre-defined Gurobi Model"
   ]
  },
  {
   "cell_type": "markdown",
   "id": "9c406b8d",
   "metadata": {},
   "source": [
    "PyEPO contains several pre-defined optimization models with GurobiPy and Pyomo."
   ]
  },
  {
   "cell_type": "code",
   "execution_count": 8,
   "id": "022aaa36",
   "metadata": {},
   "outputs": [],
   "source": [
    "# shortest path on the grid network\n",
    "from pyepo.model.grb import shortestPathModel"
   ]
  },
  {
   "cell_type": "code",
   "execution_count": 9,
   "id": "1bcc17e0",
   "metadata": {},
   "outputs": [
    {
     "name": "stdout",
     "output_type": "stream",
     "text": [
      "Obj: 2.2869938328922332\n",
      "(0, 1)\n",
      "(1, 2)\n",
      "(2, 3)\n",
      "(3, 8)\n",
      "(8, 9)\n",
      "(9, 14)\n",
      "(14, 19)\n",
      "(19, 24)\n"
     ]
    }
   ],
   "source": [
    "# solve model\n",
    "optmodel = shortestPathModel(grid=(5,5)) # init model\n",
    "optmodel.setObj(cost) # set objective function\n",
    "sol, obj = optmodel.solve() # solve\n",
    "# print res\n",
    "print('Obj: {}'.format(obj))\n",
    "for i, e in enumerate(optmodel.arcs):\n",
    "    if sol[i] > 1e-3:\n",
    "        print(e)"
   ]
  },
  {
   "cell_type": "code",
   "execution_count": null,
   "id": "de6feb58",
   "metadata": {},
   "outputs": [],
   "source": []
  }
 ],
 "metadata": {
  "kernelspec": {
   "display_name": "Python 3 (ipykernel)",
   "language": "python",
   "name": "python3"
  },
  "language_info": {
   "codemirror_mode": {
    "name": "ipython",
    "version": 3
   },
   "file_extension": ".py",
   "mimetype": "text/x-python",
   "name": "python",
   "nbconvert_exporter": "python",
   "pygments_lexer": "ipython3",
   "version": "3.9.15"
  }
 },
 "nbformat": 4,
 "nbformat_minor": 5
}
