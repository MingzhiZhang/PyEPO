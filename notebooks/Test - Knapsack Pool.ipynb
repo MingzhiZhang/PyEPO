{
 "cells": [
  {
   "cell_type": "code",
   "execution_count": 1,
   "id": "ec1bcb42",
   "metadata": {},
   "outputs": [],
   "source": [
    "# set work dir\n",
    "import os\n",
    "os.chdir(\"../pkg\")"
   ]
  },
  {
   "cell_type": "code",
   "execution_count": 2,
   "id": "4a8178d0",
   "metadata": {},
   "outputs": [
    {
     "name": "stdout",
     "output_type": "stream",
     "text": [
      "Auto-Sklearn cannot be imported.\n"
     ]
    },
    {
     "data": {
      "text/plain": [
       "<torch._C.Generator at 0x2352e024f30>"
      ]
     },
     "execution_count": 2,
     "metadata": {},
     "output_type": "execute_result"
    }
   ],
   "source": [
    "import time\n",
    "import pyepo\n",
    "import torch\n",
    "from matplotlib import pyplot as plt\n",
    "plt.style.reload_library()\n",
    "plt.style.use(\"science\")\n",
    "import numpy as np\n",
    "from tqdm import tqdm\n",
    "torch.manual_seed(135)"
   ]
  },
  {
   "cell_type": "markdown",
   "id": "610273f3",
   "metadata": {},
   "source": [
    "## Init Data"
   ]
  },
  {
   "cell_type": "code",
   "execution_count": 3,
   "id": "b294594d",
   "metadata": {},
   "outputs": [],
   "source": [
    "# generate data for grid network (features and costs)\n",
    "m = 48 # number of items\n",
    "n = 100 # number of data\n",
    "p = 5 # size of feature\n",
    "deg = 4 # polynomial degree\n",
    "dim = 2 # dimension of knapsack\n",
    "noise_width = 0.5 # noise half-width\n",
    "caps = [30] * dim # capacity\n",
    "weights, x, c = pyepo.data.knapsack.genData(n+1000, p, m, deg=deg, dim=dim, noise_width=noise_width)"
   ]
  },
  {
   "cell_type": "code",
   "execution_count": 4,
   "id": "1a1f8e4a",
   "metadata": {},
   "outputs": [
    {
     "data": {
      "text/plain": [
       "array([[4.59, 4.87, 5.19, 7.59, 6.8 , 4.97, 4.84, 3.22, 7.9 , 3.62, 3.12,\n",
       "        6.81, 7.09, 3.23, 4.47, 5.23, 6.11, 5.23, 4.27, 6.66, 5.21, 3.72,\n",
       "        7.83, 5.64, 7.56, 3.28, 4.31, 3.85, 6.43, 4.26, 7.56, 6.4 , 6.09,\n",
       "        6.4 , 4.5 , 6.31, 6.35, 3.07, 6.03, 7.39, 3.48, 5.57, 6.27, 4.55,\n",
       "        5.64, 5.66, 3.27, 6.68],\n",
       "       [4.2 , 5.61, 6.13, 7.88, 4.61, 4.92, 6.09, 7.95, 7.11, 4.02, 3.07,\n",
       "        7.84, 6.29, 5.78, 5.57, 5.65, 7.41, 5.21, 3.42, 6.48, 5.77, 7.67,\n",
       "        7.32, 3.31, 4.36, 4.75, 3.38, 3.44, 6.3 , 4.85, 7.09, 5.7 , 4.05,\n",
       "        6.04, 6.51, 3.41, 7.94, 6.05, 7.18, 3.64, 4.35, 4.45, 4.27, 4.87,\n",
       "        5.74, 3.16, 5.41, 3.81]])"
      ]
     },
     "execution_count": 4,
     "metadata": {},
     "output_type": "execute_result"
    }
   ],
   "source": [
    "weights"
   ]
  },
  {
   "cell_type": "markdown",
   "id": "2bd2586e",
   "metadata": {},
   "source": [
    "## Optimization Model "
   ]
  },
  {
   "cell_type": "code",
   "execution_count": 5,
   "id": "95c1fde4",
   "metadata": {},
   "outputs": [
    {
     "name": "stdout",
     "output_type": "stream",
     "text": [
      "Set parameter Username\n",
      "Academic license - for non-commercial use only - expires 2022-07-15\n"
     ]
    }
   ],
   "source": [
    "ks_model = pyepo.model.grb.knapsackModel(weights, caps)"
   ]
  },
  {
   "cell_type": "code",
   "execution_count": 6,
   "id": "24e5bd87",
   "metadata": {},
   "outputs": [
    {
     "name": "stdout",
     "output_type": "stream",
     "text": [
      "[0.0, -0.0, -0.0, -0.0, -0.0, -0.0, -0.0, -0.0, -0.0, 0.0, 0.0, -0.0, -0.0, 0.0, 0.0, -0.0, -0.0, 0.0, 0.0, -0.0, 0.0, 0.0, -0.0, 0.0, 0.0, 0.0, 0.0, 0.0, 0.0, 0.0, -0.0, 0.0, 0.0, 0.0, 0.0, 0.0, 0.0, 0.0, 0.0, 0.0, 1.0, 0.0, 0.0, 1.0, 1.0, 1.0, 1.0, 1.0]\n",
      "Obj: 265.0\n",
      "40\n",
      "43\n",
      "44\n",
      "45\n",
      "46\n",
      "47\n"
     ]
    }
   ],
   "source": [
    "# solve\n",
    "ks_model.setObj([i for i in range(m)])\n",
    "sol, obj = ks_model.solve()\n",
    "print(sol)\n",
    "print(\"Obj: {}\".format(obj))\n",
    "for i in ks_model.items:\n",
    "    if sol[i] > 1e-3:\n",
    "        print(i)"
   ]
  },
  {
   "cell_type": "code",
   "execution_count": 7,
   "id": "9a11572a",
   "metadata": {},
   "outputs": [],
   "source": [
    "# relax\n",
    "ks_model_rel = ks_model.relax()"
   ]
  },
  {
   "cell_type": "code",
   "execution_count": 8,
   "id": "5c09dd38",
   "metadata": {},
   "outputs": [
    {
     "name": "stdout",
     "output_type": "stream",
     "text": [
      "[0.0, 0.0, 0.0, 0.0, 0.0, 0.0, 0.0, 0.0, 0.0, 0.0, 0.0, 0.0, 0.0, 0.0, 0.0, 0.0, 0.0, 0.0, 0.0, 0.0, 0.0, 0.0, 0.0, 0.0, 0.0, 0.0, 0.0, 0.0, 0.0, 0.0, 0.0, 0.0, 0.0, 0.0, 0.0, 0.0, 0.0, 0.9225932025752352, 0.0, 0.0, 1.0, 0.6333283425662526, 0.0, 1.0, 0.0, 1.0, 1.0, 1.0]\n",
      "Obj: 281.10241054050005\n",
      "37\n",
      "40\n",
      "41\n",
      "43\n",
      "45\n",
      "46\n",
      "47\n"
     ]
    }
   ],
   "source": [
    "# solve\n",
    "ks_model_rel.setObj([i for i in range(m)])\n",
    "sol, obj = ks_model_rel.solve()\n",
    "print(sol)\n",
    "print(\"Obj: {}\".format(obj))\n",
    "for i in ks_model_rel.items:\n",
    "    if sol[i] > 1e-3:\n",
    "        print(i)"
   ]
  },
  {
   "cell_type": "markdown",
   "id": "4bec37e4",
   "metadata": {},
   "source": [
    "## Data Loader "
   ]
  },
  {
   "cell_type": "code",
   "execution_count": 9,
   "id": "261aed4e",
   "metadata": {},
   "outputs": [],
   "source": [
    "from sklearn.model_selection import train_test_split\n",
    "from torch.utils.data import DataLoader"
   ]
  },
  {
   "cell_type": "code",
   "execution_count": 10,
   "id": "4eda340b",
   "metadata": {},
   "outputs": [],
   "source": [
    "# data split\n",
    "x_train, x_test, c_train, c_test = train_test_split(x, c, test_size=1000, random_state=246)"
   ]
  },
  {
   "cell_type": "code",
   "execution_count": 11,
   "id": "a0e0ef0b",
   "metadata": {},
   "outputs": [
    {
     "name": "stdout",
     "output_type": "stream",
     "text": [
      "Optimizing for optDataset...\n"
     ]
    },
    {
     "name": "stderr",
     "output_type": "stream",
     "text": [
      "100%|████████████████████████████████████████████████████████████████████████████████████████████████| 100/100 [00:00<00:00, 358.34it/s]\n"
     ]
    }
   ],
   "source": [
    "# get training data set\n",
    "ks_dataset_train = pyepo.data.dataset.optDataset(ks_model, x_train, c_train)"
   ]
  },
  {
   "cell_type": "code",
   "execution_count": 12,
   "id": "fad71155",
   "metadata": {},
   "outputs": [
    {
     "name": "stdout",
     "output_type": "stream",
     "text": [
      "Optimizing for optDataset...\n"
     ]
    },
    {
     "name": "stderr",
     "output_type": "stream",
     "text": [
      "100%|████████████████████████████████████████████████████████████████████████████████████████████████| 100/100 [00:00<00:00, 934.37it/s]\n"
     ]
    }
   ],
   "source": [
    "# get training data set for relaxation\n",
    "ks_dataset_train_rel = pyepo.data.dataset.optDataset(ks_model_rel, x_train, c_train)"
   ]
  },
  {
   "cell_type": "code",
   "execution_count": 13,
   "id": "c8fc0755",
   "metadata": {},
   "outputs": [
    {
     "name": "stdout",
     "output_type": "stream",
     "text": [
      "Optimizing for optDataset...\n"
     ]
    },
    {
     "name": "stderr",
     "output_type": "stream",
     "text": [
      "100%|██████████████████████████████████████████████████████████████████████████████████████████████| 1000/1000 [00:02<00:00, 340.00it/s]\n"
     ]
    }
   ],
   "source": [
    "# get test data set\n",
    "ks_dataset_test = pyepo.data.dataset.optDataset(ks_model, x_test, c_test)"
   ]
  },
  {
   "cell_type": "code",
   "execution_count": 14,
   "id": "bf0bbb3e",
   "metadata": {},
   "outputs": [],
   "source": [
    "# get data loader\n",
    "batch_size = 32\n",
    "ks_loader_train = DataLoader(ks_dataset_train, batch_size=batch_size, shuffle=True)\n",
    "ks_loader_train_rel = DataLoader(ks_dataset_train_rel, batch_size=batch_size, shuffle=True)\n",
    "ks_loader_test = DataLoader(ks_dataset_test, batch_size=batch_size, shuffle=False)"
   ]
  },
  {
   "cell_type": "code",
   "execution_count": 15,
   "id": "a542a7df",
   "metadata": {},
   "outputs": [],
   "source": [
    "for i, data in enumerate(ks_loader_train):\n",
    "    x, c, w, z = data\n",
    "    break"
   ]
  },
  {
   "cell_type": "code",
   "execution_count": 16,
   "id": "75fc2763",
   "metadata": {},
   "outputs": [
    {
     "data": {
      "text/plain": [
       "torch.Size([32, 5])"
      ]
     },
     "execution_count": 16,
     "metadata": {},
     "output_type": "execute_result"
    }
   ],
   "source": [
    "x.shape"
   ]
  },
  {
   "cell_type": "code",
   "execution_count": 17,
   "id": "5e50a821",
   "metadata": {},
   "outputs": [
    {
     "data": {
      "text/plain": [
       "torch.Size([32, 48])"
      ]
     },
     "execution_count": 17,
     "metadata": {},
     "output_type": "execute_result"
    }
   ],
   "source": [
    "c.shape"
   ]
  },
  {
   "cell_type": "code",
   "execution_count": 18,
   "id": "074c9398",
   "metadata": {},
   "outputs": [
    {
     "data": {
      "text/plain": [
       "torch.Size([32, 48])"
      ]
     },
     "execution_count": 18,
     "metadata": {},
     "output_type": "execute_result"
    }
   ],
   "source": [
    "w.shape"
   ]
  },
  {
   "cell_type": "code",
   "execution_count": 19,
   "id": "20de02c7",
   "metadata": {},
   "outputs": [
    {
     "data": {
      "text/plain": [
       "torch.Size([32, 1])"
      ]
     },
     "execution_count": 19,
     "metadata": {},
     "output_type": "execute_result"
    }
   ],
   "source": [
    "z.shape"
   ]
  },
  {
   "cell_type": "markdown",
   "id": "8596e709",
   "metadata": {},
   "source": [
    "## Linear Regression from PyTorch"
   ]
  },
  {
   "cell_type": "code",
   "execution_count": 20,
   "id": "e88c361d",
   "metadata": {},
   "outputs": [],
   "source": [
    "from torch import nn"
   ]
  },
  {
   "cell_type": "code",
   "execution_count": 21,
   "id": "5ed32466",
   "metadata": {},
   "outputs": [],
   "source": [
    "# build linear model\n",
    "class LinearRegression(nn.Module):\n",
    "    \n",
    "    def __init__(self):\n",
    "        super(LinearRegression, self).__init__()\n",
    "        self.linear = nn.Linear(p, m)\n",
    "    \n",
    "    def forward(self, x):\n",
    "        out = self.linear(x)\n",
    "        return out"
   ]
  },
  {
   "cell_type": "markdown",
   "id": "fa3f22f2",
   "metadata": {},
   "source": [
    "## SPO+ "
   ]
  },
  {
   "cell_type": "code",
   "execution_count": 22,
   "id": "07753d5a",
   "metadata": {},
   "outputs": [],
   "source": [
    "# init model\n",
    "reg = LinearRegression()\n",
    "# cuda\n",
    "if torch.cuda.is_available():\n",
    "    reg = reg.cuda()"
   ]
  },
  {
   "cell_type": "code",
   "execution_count": 23,
   "id": "d4d0d9b8",
   "metadata": {},
   "outputs": [],
   "source": [
    "# set optimizer\n",
    "optimizer = torch.optim.Adam(reg.parameters(), lr=1e-2)"
   ]
  },
  {
   "cell_type": "code",
   "execution_count": 24,
   "id": "fb3637bb",
   "metadata": {},
   "outputs": [
    {
     "name": "stdout",
     "output_type": "stream",
     "text": [
      "Num of cores: 4\n"
     ]
    }
   ],
   "source": [
    "# init SPO+ loss\n",
    "criterion = pyepo.func.SPOPlus(ks_model, processes=4, solve_ratio=0.1, dataset=ks_dataset_train)"
   ]
  },
  {
   "cell_type": "code",
   "execution_count": null,
   "id": "5a05c841",
   "metadata": {
    "scrolled": false
   },
   "outputs": [
    {
     "name": "stdout",
     "output_type": "stream",
     "text": [
      "Epoch  10, Loss:  36.4332, Regret: 36.4830%, Unambiguous Regret: 36.4830%\n",
      "Epoch  20, Loss:  50.8446, Regret: 31.5393%, Unambiguous Regret: 31.5393%\n",
      "Epoch  30, Loss:  50.0442, Regret: 28.1694%, Unambiguous Regret: 28.1714%\n",
      "Epoch  40, Loss:  80.0761, Regret: 24.1853%, Unambiguous Regret: 24.1853%\n",
      "Epoch  50, Loss:  31.3974, Regret: 22.1630%, Unambiguous Regret: 22.1630%\n",
      "Epoch  60, Loss:  56.7399, Regret: 20.0376%, Unambiguous Regret: 20.0376%\n",
      "Epoch  70, Loss:  57.1378, Regret: 18.4173%, Unambiguous Regret: 18.4173%\n",
      "Epoch  80, Loss:  31.4387, Regret: 16.9970%, Unambiguous Regret: 16.9970%\n",
      "Epoch  90, Loss:  57.2980, Regret: 15.5525%, Unambiguous Regret: 15.5525%\n",
      "Epoch 100, Loss:  49.1809, Regret: 15.1989%, Unambiguous Regret: 15.1989%\n",
      "Epoch 110, Loss:  31.0522, Regret: 14.6716%, Unambiguous Regret: 14.6716%\n",
      "Epoch 120, Loss:  31.7627, Regret: 14.0594%, Unambiguous Regret: 14.0594%\n",
      "Epoch 130, Loss:  23.4824, Regret: 13.6311%, Unambiguous Regret: 13.6311%\n",
      "Epoch 140, Loss:  10.0173, Regret: 13.3200%, Unambiguous Regret: 13.3200%\n",
      "Epoch 150, Loss:  21.5481, Regret: 13.0513%, Unambiguous Regret: 13.0513%\n",
      "Epoch 160, Loss:  28.0003, Regret: 12.7907%, Unambiguous Regret: 12.7907%\n",
      "Epoch 170, Loss:  26.9480, Regret: 12.5422%, Unambiguous Regret: 12.5422%\n",
      "Epoch 180, Loss:  24.7357, Regret: 12.5604%, Unambiguous Regret: 12.5604%\n",
      "Epoch 190, Loss:  12.5021, Regret: 12.5987%, Unambiguous Regret: 12.5987%\n",
      "Epoch 200, Loss:  23.3582, Regret: 12.3866%, Unambiguous Regret: 12.3866%\n",
      "Epoch 210, Loss:  11.2421, Regret: 12.2149%, Unambiguous Regret: 12.2149%\n",
      "Epoch 220, Loss:  21.9985, Regret: 12.3583%, Unambiguous Regret: 12.3583%\n",
      "Epoch 230, Loss:  39.6820, Regret: 12.4432%, Unambiguous Regret: 12.4432%\n",
      "Epoch 240, Loss:  16.7892, Regret: 12.3765%, Unambiguous Regret: 12.3846%\n",
      "Epoch 250, Loss:  10.1278, Regret: 12.2209%, Unambiguous Regret: 12.2048%\n",
      "Epoch 260, Loss:  57.2839, Regret: 12.4088%, Unambiguous Regret: 12.4088%\n",
      "Epoch 270, Loss:  20.1796, Regret: 12.0735%, Unambiguous Regret: 12.0735%\n"
     ]
    }
   ],
   "source": [
    "# train model\n",
    "num_epochs = 300\n",
    "reg.train()\n",
    "loss_log = []\n",
    "loss_log_truespo = []\n",
    "loss_log_unambspo = []\n",
    "for epoch in range(num_epochs):\n",
    "    # load data\n",
    "    for i, data in enumerate(ks_loader_train):\n",
    "        x, c, w, z = data\n",
    "        # cuda\n",
    "        if torch.cuda.is_available():\n",
    "            x, c, w, z = x.cuda(), c.cuda(), w.cuda(), z.cuda()\n",
    "        # forward pass\n",
    "        cp = reg(x)\n",
    "        loss = criterion.apply(cp, c, w, z).mean()\n",
    "        # backward pass\n",
    "        optimizer.zero_grad()\n",
    "        loss.backward()\n",
    "        optimizer.step()\n",
    "    loss_log.append(loss.item())\n",
    "    if (epoch + 1) % 10 == 0:\n",
    "        # true SPO\n",
    "        trueloss = pyepo.metric.regret(reg, ks_model, ks_loader_test)\n",
    "        loss_log_truespo.append(trueloss)\n",
    "        # unambiguous SPO \n",
    "        unambloss = pyepo.metric.unambRegret(reg, ks_model, ks_loader_test)\n",
    "        loss_log_unambspo.append(unambloss)\n",
    "        print(\"Epoch {:3}, Loss: {:8.4f}, Regret: {:7.4f}%, Unambiguous Regret: {:7.4f}%\". \\\n",
    "              format(epoch+1, loss.item(), trueloss*100, unambloss*100))"
   ]
  },
  {
   "cell_type": "code",
   "execution_count": null,
   "id": "927bf5d7",
   "metadata": {},
   "outputs": [],
   "source": [
    "# draw plot\n",
    "plt.figure(figsize=(16, 8))\n",
    "plt.plot(loss_log, color=\"c\", lw=3)\n",
    "plt.xticks(fontsize=28)\n",
    "plt.yticks(fontsize=28)\n",
    "plt.xlabel(\"Epoch\", fontsize=36)\n",
    "plt.ylabel(\"Loss\", fontsize=36)\n",
    "plt.title(\"Learning Curve\", fontsize=36)\n",
    "plt.show()"
   ]
  },
  {
   "cell_type": "code",
   "execution_count": null,
   "id": "8ae91bbd",
   "metadata": {},
   "outputs": [],
   "source": [
    "# draw plot\n",
    "plt.figure(figsize=(16, 8))\n",
    "plt.plot(range(0, num_epochs, 10), loss_log_truespo, color=\"royalblue\", ls=\"--\", alpha=0.7, lw=5, label=\"Regret\")\n",
    "plt.plot(range(0, num_epochs, 10), loss_log_unambspo, color=\"lightcoral\", ls=\":\", alpha=0.7, lw=6, label=\"Unambiguous Regret\")\n",
    "plt.xticks(fontsize=28)\n",
    "plt.yticks(fontsize=28)\n",
    "plt.xlabel(\"Epoch\", fontsize=36)\n",
    "plt.ylabel(\"Loss\", fontsize=36)\n",
    "plt.title(\"Learning Curve\", fontsize=36)\n",
    "plt.legend(fontsize=32)\n",
    "plt.show()"
   ]
  },
  {
   "cell_type": "code",
   "execution_count": null,
   "id": "c8515a5d",
   "metadata": {},
   "outputs": [],
   "source": [
    "# evaluate\n",
    "spoloss = pyepo.metric.regret(reg, ks_model, ks_loader_test)\n",
    "print(\"Normalized Regret: {:.2f}%\".format(spoloss * 100))\n",
    "spoloss = pyepo.metric.unambRegret(reg, ks_model, ks_loader_test)\n",
    "print(\"Normalized Unambiguous Regret: {:.2f}%\".format(spoloss * 100))"
   ]
  },
  {
   "cell_type": "code",
   "execution_count": null,
   "id": "738c1d73",
   "metadata": {
    "scrolled": false
   },
   "outputs": [],
   "source": [
    "reg.eval()\n",
    "# compare solutions\n",
    "for i, data in enumerate(ks_loader_test):\n",
    "    # load data\n",
    "    x, c, w, z = data\n",
    "    # cuda\n",
    "    if torch.cuda.is_available():\n",
    "        x, c, w, z = x.cuda(), c.cuda(), w.cuda(), z.cuda()\n",
    "    # predict\n",
    "    cp = reg(x)\n",
    "    # convert to numpy\n",
    "    x = x.to(\"cpu\").detach().numpy()\n",
    "    c = c.to(\"cpu\").detach().numpy()\n",
    "    w = w.to(\"cpu\").detach().numpy()\n",
    "    z = z.to(\"cpu\").detach().numpy()\n",
    "    cp = cp.to(\"cpu\").detach().numpy()\n",
    "    for j in range(min(10, batch_size)):\n",
    "        print(\"Sample {}:\".format(j))\n",
    "        print(\"    True cost:\", \", \".join([\"{:.2f}\".format(-cost) for cost in c[j]]))\n",
    "        print(\"    Pred cost:\", \", \".join([\"{:.2f}\".format(-cost) for cost in cp[j]]))\n",
    "        # solve cost from prediction\n",
    "        ks_model.setObj(cp[j])\n",
    "        wpj, _ = ks_model.solve()\n",
    "        zpj = np.dot(c[j], wpj)\n",
    "        print(\"    True sol: \" + \", \".join([\"{:.0f}\".format(x) for x in w[j]]) + \", True obj: {:.2f}\".format(-z[j,0]))\n",
    "        print(\"    Pred sol: \"+  \", \".join([\"{:.0f}\".format(x) for x in wpj]) + \", Pred obj: {:.2f}\".format(-zpj))\n",
    "        print()\n",
    "    break"
   ]
  },
  {
   "cell_type": "markdown",
   "id": "cd96fcde",
   "metadata": {},
   "source": [
    "## Black-Box"
   ]
  },
  {
   "cell_type": "code",
   "execution_count": null,
   "id": "383005aa",
   "metadata": {},
   "outputs": [],
   "source": [
    "# init model\n",
    "reg = LinearRegression()\n",
    "# cuda\n",
    "if torch.cuda.is_available():\n",
    "    reg = reg.cuda()"
   ]
  },
  {
   "cell_type": "code",
   "execution_count": null,
   "id": "2b534a38",
   "metadata": {},
   "outputs": [],
   "source": [
    "# set optimizer\n",
    "optimizer = torch.optim.Adam(reg.parameters(), lr=5e-2)"
   ]
  },
  {
   "cell_type": "code",
   "execution_count": null,
   "id": "b257e4f1",
   "metadata": {},
   "outputs": [],
   "source": [
    "# set loss\n",
    "bb = pyepo.func.blackboxOpt(ks_model, lambd=20, processes=4)#, solve_ratio=0.2, dataset=ks_dataset_train)\n",
    "criterion = nn.L1Loss()"
   ]
  },
  {
   "cell_type": "code",
   "execution_count": null,
   "id": "85ce9990",
   "metadata": {},
   "outputs": [],
   "source": [
    "# train model\n",
    "num_epochs = 300\n",
    "reg.train()\n",
    "loss_log = []\n",
    "loss_log_truespo = []\n",
    "loss_log_unambspo = []\n",
    "for epoch in range(num_epochs):\n",
    "    for para in reg.parameters():\n",
    "        #print(para.data[:4,0])\n",
    "        break\n",
    "    # load data\n",
    "    for i, data in enumerate(ks_loader_train):\n",
    "        x, c, w, z = data\n",
    "        # cuda\n",
    "        if torch.cuda.is_available():\n",
    "            x, c, w, z = x.cuda(), c.cuda(), w.cuda(), z.cuda()\n",
    "        # linear regression\n",
    "        cp = reg(x)\n",
    "        # black-box optimizer\n",
    "        wp = bb.apply(cp)\n",
    "        # objective value\n",
    "        zp = (wp * c).sum(1).view(-1, 1)\n",
    "        # loss\n",
    "        loss = criterion(zp, z)\n",
    "        # backward pass\n",
    "        optimizer.zero_grad()\n",
    "        loss.backward()\n",
    "        optimizer.step()\n",
    "        #print(abs_grad)\n",
    "    loss_log.append(loss.item())\n",
    "    if (epoch + 1) % 10 == 0:\n",
    "        # true SPO\n",
    "        trueloss = pyepo.metric.regret(reg, ks_model, ks_loader_test)\n",
    "        loss_log_truespo.append(trueloss)\n",
    "        # unambiguous SPO \n",
    "        unambloss = pyepo.metric.unambRegret(reg, ks_model, ks_loader_test)\n",
    "        loss_log_unambspo.append(unambloss)\n",
    "        print(\"Epoch {:3}, Loss: {:8.4f}, Regret: {:7.4f}%, Unambiguous Regret: {:7.4f}%\". \\\n",
    "              format(epoch+1, loss.item(), trueloss*100, unambloss*100))"
   ]
  },
  {
   "cell_type": "code",
   "execution_count": null,
   "id": "9bb79450",
   "metadata": {},
   "outputs": [],
   "source": [
    "# draw plot\n",
    "plt.figure(figsize=(16, 8))\n",
    "plt.plot(loss_log, color=\"c\", lw=3)\n",
    "plt.xticks(fontsize=28)\n",
    "plt.yticks(fontsize=28) \n",
    "plt.xlabel(\"Epoch\", fontsize=36)\n",
    "plt.ylabel(\"Loss\", fontsize=36)\n",
    "plt.title(\"Learning Curve\", fontsize=36)\n",
    "plt.show()"
   ]
  },
  {
   "cell_type": "code",
   "execution_count": null,
   "id": "65e634d4",
   "metadata": {},
   "outputs": [],
   "source": [
    "# draw plot\n",
    "plt.figure(figsize=(16, 8))\n",
    "plt.plot(range(0, num_epochs, 10), loss_log_truespo, color=\"royalblue\", ls=\"--\", alpha=0.7, lw=5, label=\"Regret\")\n",
    "plt.plot(range(0, num_epochs, 10), loss_log_unambspo, color=\"lightcoral\", ls=\":\", alpha=0.7, lw=6, label=\"Unambiguous Regret\")\n",
    "plt.xticks(fontsize=28)\n",
    "plt.yticks(fontsize=28)\n",
    "plt.xlabel(\"Epoch\", fontsize=36)\n",
    "plt.ylabel(\"Loss\", fontsize=36)\n",
    "plt.title(\"Learning Curve\", fontsize=36)\n",
    "plt.legend(fontsize=32)\n",
    "plt.show()"
   ]
  },
  {
   "cell_type": "code",
   "execution_count": null,
   "id": "9f49711c",
   "metadata": {},
   "outputs": [],
   "source": [
    "# evaluate\n",
    "spoloss = pyepo.metric.regret(reg, ks_model, ks_loader_test)\n",
    "print(\"Normalized Regret: {:.2f}%\".format(spoloss * 100))\n",
    "spoloss = pyepo.metric.unambRegret(reg, ks_model, ks_loader_test)\n",
    "print(\"Normalized Unambiguous Regret: {:.2f}%\".format(spoloss * 100))"
   ]
  },
  {
   "cell_type": "code",
   "execution_count": null,
   "id": "4f8b44a1",
   "metadata": {
    "scrolled": false
   },
   "outputs": [],
   "source": [
    "reg.eval()\n",
    "# compare solutions\n",
    "for i, data in enumerate(ks_loader_test):\n",
    "    # load data\n",
    "    x, c, w, z = data\n",
    "    # cuda\n",
    "    if torch.cuda.is_available():\n",
    "        x, c, w, z = x.cuda(), c.cuda(), w.cuda(), z.cuda()\n",
    "    # predict\n",
    "    cp = reg(x)\n",
    "    # convert to numpy\n",
    "    x = x.to(\"cpu\").detach().numpy()\n",
    "    c = c.to(\"cpu\").detach().numpy()\n",
    "    w = w.to(\"cpu\").detach().numpy()\n",
    "    z = z.to(\"cpu\").detach().numpy()\n",
    "    cp = cp.to(\"cpu\").detach().numpy()\n",
    "    for j in range(min(10, batch_size)):\n",
    "        print(\"Sample {}:\".format(j))\n",
    "        print(\"    True cost:\", \", \".join([\"{:.2f}\".format(cost) for cost in c[j]]))\n",
    "        print(\"    Pred cost:\", \", \".join([\"{:.2f}\".format(cost) for cost in cp[j]]))\n",
    "        # solve cost from prediction\n",
    "        ks_model.setObj(cp[j])\n",
    "        wpj, _ = ks_model.solve()\n",
    "        zpj = np.dot(c[j], wpj)\n",
    "        print(\"    True sol: \" + \", \".join([\"{:.0f}\".format(x) for x in w[j]]) + \", True obj: {:.2f}\".format(z[j,0]))\n",
    "        print(\"    Pred sol: \"+  \", \".join([\"{:.0f}\".format(x) for x in wpj]) + \", Pred obj: {:.2f}\".format(zpj))\n",
    "        print()\n",
    "    break"
   ]
  },
  {
   "cell_type": "code",
   "execution_count": null,
   "id": "4eb4ff5b",
   "metadata": {},
   "outputs": [],
   "source": []
  }
 ],
 "metadata": {
  "kernelspec": {
   "display_name": "Python 3 (ipykernel)",
   "language": "python",
   "name": "python3"
  },
  "language_info": {
   "codemirror_mode": {
    "name": "ipython",
    "version": 3
   },
   "file_extension": ".py",
   "mimetype": "text/x-python",
   "name": "python",
   "nbconvert_exporter": "python",
   "pygments_lexer": "ipython3",
   "version": "3.9.7"
  }
 },
 "nbformat": 4,
 "nbformat_minor": 5
}
