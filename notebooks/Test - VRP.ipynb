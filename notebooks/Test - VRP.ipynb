{
 "cells": [
  {
   "cell_type": "code",
   "execution_count": 1,
   "id": "27966251",
   "metadata": {},
   "outputs": [],
   "source": [
    "# set work dir\n",
    "import os\n",
    "os.chdir(\"../pkg\")"
   ]
  },
  {
   "cell_type": "code",
   "execution_count": 2,
   "id": "2707d390",
   "metadata": {},
   "outputs": [
    {
     "name": "stdout",
     "output_type": "stream",
     "text": [
      "Auto-Sklearn cannot be imported.\n"
     ]
    },
    {
     "data": {
      "text/plain": [
       "<torch._C.Generator at 0x1e558c4da50>"
      ]
     },
     "execution_count": 2,
     "metadata": {},
     "output_type": "execute_result"
    }
   ],
   "source": [
    "import time\n",
    "import random\n",
    "random.seed(135)\n",
    "import pyepo\n",
    "import torch\n",
    "from matplotlib import pyplot as plt\n",
    "plt.style.reload_library()\n",
    "plt.style.use(\"science\")\n",
    "import numpy as np\n",
    "import pandas as pd\n",
    "from tqdm import tqdm\n",
    "torch.manual_seed(135)"
   ]
  },
  {
   "cell_type": "markdown",
   "id": "9a246a94",
   "metadata": {},
   "source": [
    "## Init Data "
   ]
  },
  {
   "cell_type": "code",
   "execution_count": 3,
   "id": "f7f4f3c0",
   "metadata": {},
   "outputs": [],
   "source": [
    "# generate data (features and costs)\n",
    "m = 20 # number of nodes\n",
    "n = 100 # number of data\n",
    "p = 10 # size of feature\n",
    "deg = 4 # polynomial degree\n",
    "x, c = pyepo.data.tsp.genData(n+100, p, m+1, deg=deg, noise_width=0.5)"
   ]
  },
  {
   "cell_type": "code",
   "execution_count": 4,
   "id": "28589c54",
   "metadata": {},
   "outputs": [
    {
     "name": "stdout",
     "output_type": "stream",
     "text": [
      "[1.60421985 5.4610857  0.62443351 6.46043145 2.18010974 5.1952663\n",
      " 8.6725613  9.72775837 8.53955437 4.55030551 4.87533965 1.40802906\n",
      " 7.53233711 0.27579093 4.85635581 9.09808187 9.37314946 2.48141017\n",
      " 3.09683408 6.79130627]\n"
     ]
    }
   ],
   "source": [
    "# demands\n",
    "demands = np.random.rand(m) * 10\n",
    "print(demands)"
   ]
  },
  {
   "cell_type": "markdown",
   "id": "b8b51bae",
   "metadata": {},
   "source": [
    "## Build Graph"
   ]
  },
  {
   "cell_type": "code",
   "execution_count": 5,
   "id": "c8658fc9",
   "metadata": {},
   "outputs": [
    {
     "name": "stdout",
     "output_type": "stream",
     "text": [
      "Set parameter Username\n",
      "Academic license - for non-commercial use only - expires 2023-07-09\n"
     ]
    }
   ],
   "source": [
    "# opt model\n",
    "vrpmodel = tsp_model = pyepo.model.grb.vrpModel(m+1, demands=demands, capacity=30, num_vehicle=5)"
   ]
  },
  {
   "cell_type": "code",
   "execution_count": 6,
   "id": "41de9856",
   "metadata": {},
   "outputs": [
    {
     "name": "stdout",
     "output_type": "stream",
     "text": [
      "Obj: 52.5121\n",
      "0 -> 1 -> 7 -> 3 -> 9 -> 4 -> 14 -> 0\n",
      "0 -> 2 -> 6 -> 5 -> 18 -> 15 -> 10 -> 0\n",
      "0 -> 11 -> 20 -> 19 -> 16 -> 0\n",
      "0 -> 13 -> 12 -> 8 -> 17 -> 0\n"
     ]
    }
   ],
   "source": [
    "# solve\n",
    "vrpmodel.setObj(c[0])\n",
    "sol, obj = vrpmodel.solve()\n",
    "print(\"Obj: {:.4f}\".format(obj))\n",
    "route = vrpmodel.getTour(sol)\n",
    "for tour in route:\n",
    "    print(\" -> \".join(map(str, tour)))"
   ]
  },
  {
   "cell_type": "markdown",
   "id": "16e1a8f1",
   "metadata": {},
   "source": [
    "## Data Loader"
   ]
  },
  {
   "cell_type": "code",
   "execution_count": 7,
   "id": "f79ac3ca",
   "metadata": {},
   "outputs": [],
   "source": [
    "from sklearn.model_selection import train_test_split\n",
    "from torch.utils.data import DataLoader"
   ]
  },
  {
   "cell_type": "code",
   "execution_count": 8,
   "id": "c1224cbf",
   "metadata": {},
   "outputs": [],
   "source": [
    "# data split\n",
    "x_train, x_test, c_train, c_test = train_test_split(x, c, test_size=100, random_state=246)"
   ]
  },
  {
   "cell_type": "code",
   "execution_count": 9,
   "id": "e22526de",
   "metadata": {},
   "outputs": [
    {
     "name": "stdout",
     "output_type": "stream",
     "text": [
      "Optimizing for optDataset...\n"
     ]
    },
    {
     "name": "stderr",
     "output_type": "stream",
     "text": [
      "100%|█████████████████████████████████████████████████████████████████████████████████████████████████| 100/100 [03:21<00:00,  2.02s/it]\n"
     ]
    },
    {
     "name": "stdout",
     "output_type": "stream",
     "text": [
      "Optimizing for optDataset...\n"
     ]
    },
    {
     "name": "stderr",
     "output_type": "stream",
     "text": [
      "100%|█████████████████████████████████████████████████████████████████████████████████████████████████| 100/100 [08:51<00:00,  5.31s/it]\n"
     ]
    }
   ],
   "source": [
    "dataset_train = pyepo.data.dataset.optDataset(vrpmodel, x_train, c_train)\n",
    "dataset_test = pyepo.data.dataset.optDataset(vrpmodel, x_test, c_test)"
   ]
  },
  {
   "cell_type": "code",
   "execution_count": 10,
   "id": "aa416540",
   "metadata": {},
   "outputs": [],
   "source": [
    "# get data loader\n",
    "batch_size = 32\n",
    "loader_train = DataLoader(dataset_train, batch_size=batch_size, shuffle=True)\n",
    "loader_test = DataLoader(dataset_test, batch_size=batch_size, shuffle=False)"
   ]
  },
  {
   "cell_type": "markdown",
   "id": "0341158b",
   "metadata": {},
   "source": [
    "## Linear Regression from PyTorch "
   ]
  },
  {
   "cell_type": "code",
   "execution_count": 11,
   "id": "805d3db0",
   "metadata": {},
   "outputs": [],
   "source": [
    "from torch import nn"
   ]
  },
  {
   "cell_type": "code",
   "execution_count": 12,
   "id": "57d011db",
   "metadata": {},
   "outputs": [],
   "source": [
    "# build linear model\n",
    "class LinearRegression(nn.Module):\n",
    "    \n",
    "    def __init__(self):\n",
    "        super(LinearRegression, self).__init__()\n",
    "        self.linear = nn.Linear(p, m*(m+1)//2)\n",
    "    \n",
    "    def forward(self, x):\n",
    "        out = self.linear(x)\n",
    "        return out"
   ]
  },
  {
   "cell_type": "markdown",
   "id": "ef95b373",
   "metadata": {},
   "source": [
    "## Training"
   ]
  },
  {
   "cell_type": "code",
   "execution_count": 13,
   "id": "5e40eea0",
   "metadata": {},
   "outputs": [],
   "source": [
    "# init model\n",
    "reg = LinearRegression()\n",
    "# cuda\n",
    "if torch.cuda.is_available():\n",
    "    reg = reg.cuda()"
   ]
  },
  {
   "cell_type": "code",
   "execution_count": 14,
   "id": "e97f87cb",
   "metadata": {},
   "outputs": [],
   "source": [
    "# set optimizer\n",
    "optimizer = torch.optim.Adam(reg.parameters(), lr=1e-1)"
   ]
  },
  {
   "cell_type": "code",
   "execution_count": 15,
   "id": "769a5eb1",
   "metadata": {},
   "outputs": [
    {
     "name": "stdout",
     "output_type": "stream",
     "text": [
      "Num of cores: 1\n"
     ]
    }
   ],
   "source": [
    "# init SPO+ loss\n",
    "spop = pyepo.func.SPOPlus(vrpmodel, processes=1)"
   ]
  },
  {
   "cell_type": "code",
   "execution_count": 16,
   "id": "73391c11",
   "metadata": {},
   "outputs": [
    {
     "name": "stdout",
     "output_type": "stream",
     "text": [
      "Start training...\n"
     ]
    },
    {
     "name": "stderr",
     "output_type": "stream",
     "text": [
      "Loss: 0.2202: 100%|█████████████████████████████████████████████████████████████████████████████████| 200/200 [1:44:54<00:00, 31.47s/it]\n"
     ]
    }
   ],
   "source": [
    "# train mode\n",
    "reg.train()\n",
    "# init log\n",
    "loss_log = []\n",
    "# epochs\n",
    "num_epochs = 200\n",
    "# start traning\n",
    "print(\"Start training...\")\n",
    "tbar = tqdm(range(num_epochs))\n",
    "for epoch in tbar:\n",
    "    # load data\n",
    "    for data in loader_train:\n",
    "        x, c, w, z = data\n",
    "        # cuda\n",
    "        if torch.cuda.is_available():\n",
    "            x, c, w, z = x.cuda(), c.cuda(), w.cuda(), z.cuda()\n",
    "        # forward pass\n",
    "        cp = reg(x)\n",
    "        loss = spop(cp, c, w, z).mean()\n",
    "        # backward pass\n",
    "        optimizer.zero_grad()\n",
    "        loss.backward()\n",
    "        optimizer.step()\n",
    "        loss_log.append(loss.item())\n",
    "        tbar.set_description(\"Loss: {:.4f}\".format(loss.item()))"
   ]
  },
  {
   "cell_type": "code",
   "execution_count": 17,
   "id": "a3123d3b",
   "metadata": {},
   "outputs": [
    {
     "name": "stdout",
     "output_type": "stream",
     "text": [
      "Mean Squared Error: 74.9423\n",
      "Normalized Regret: 13.09%\n"
     ]
    }
   ],
   "source": [
    "# evaluate\n",
    "mse = pyepo.metric.MSE(reg, loader_test)\n",
    "print(\"Mean Squared Error: {:.4f}\".format(mse))\n",
    "regret = pyepo.metric.regret(reg, vrpmodel, loader_test)\n",
    "print(\"Normalized Regret: {:.2f}%\".format(regret * 100))"
   ]
  },
  {
   "cell_type": "code",
   "execution_count": 18,
   "id": "087a802a",
   "metadata": {},
   "outputs": [
    {
     "data": {
      "image/png": "[encoded data removed]",
      "text/plain": [
       "<Figure size 576x432 with 1 Axes>"
      ]
     },
     "metadata": {
      "needs_background": "light"
     },
     "output_type": "display_data"
    }
   ],
   "source": [
    "# draw plot\n",
    "plt.figure(figsize=(8, 6))\n",
    "plt.plot(loss_log, color=\"c\", lw=1)\n",
    "plt.xticks(fontsize=12)\n",
    "plt.yticks(fontsize=12)\n",
    "plt.xlabel(\"Iters\", fontsize=18)\n",
    "plt.ylabel(\"Loss\", fontsize=18)\n",
    "plt.title(\"Learning Curve\", fontsize=18)\n",
    "plt.show()"
   ]
  },
  {
   "cell_type": "code",
   "execution_count": null,
   "id": "83d09292",
   "metadata": {},
   "outputs": [],
   "source": []
  }
 ],
 "metadata": {
  "kernelspec": {
   "display_name": "Python 3 (ipykernel)",
   "language": "python",
   "name": "python3"
  },
  "language_info": {
   "codemirror_mode": {
    "name": "ipython",
    "version": 3
   },
   "file_extension": ".py",
   "mimetype": "text/x-python",
   "name": "python",
   "nbconvert_exporter": "python",
   "pygments_lexer": "ipython3",
   "version": "3.9.12"
  }
 },
 "nbformat": 4,
 "nbformat_minor": 5
}
