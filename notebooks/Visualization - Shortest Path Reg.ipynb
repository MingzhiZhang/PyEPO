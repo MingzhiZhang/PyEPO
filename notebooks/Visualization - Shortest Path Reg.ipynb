{
 "cells": [
  {
   "cell_type": "code",
   "execution_count": null,
   "id": "6eb392e5",
   "metadata": {},
   "outputs": [],
   "source": [
    "# set working dir\n",
    "import os\n",
    "os.chdir(\"../\")"
   ]
  },
  {
   "cell_type": "code",
   "execution_count": null,
   "id": "nutritional-german",
   "metadata": {},
   "outputs": [],
   "source": [
    "from copy import deepcopy\n",
    "from types import SimpleNamespace\n",
    "\n",
    "import pandas as pd\n",
    "import numpy as np\n",
    "from matplotlib import pyplot as plt\n",
    "import scienceplots\n",
    "plt.style.reload_library()\n",
    "plt.style.use(\"science\")\n",
    "from matplotlib import ticker\n",
    "import tol_colors as tc\n",
    "\n",
    "from run import utils"
   ]
  },
  {
   "cell_type": "code",
   "execution_count": null,
   "id": "c14447f2",
   "metadata": {},
   "outputs": [],
   "source": [
    "# init config\n",
    "config = SimpleNamespace()\n",
    "config.prob = \"sp\"\n",
    "config.grid = (5, 5)\n",
    "config.feat = 5\n",
    "config.net = []\n",
    "config.optm = \"adam\"\n",
    "config.batch = 32\n",
    "config.l1 = 0.0\n",
    "config.l2 = 0.0\n",
    "config.rel = False\n",
    "config.lan = \"gurobi\"\n",
    "config.proc = 8\n",
    "config.path = \"./res\"\n",
    "config.sftp = False"
   ]
  },
  {
   "cell_type": "code",
   "execution_count": null,
   "id": "bfc4b4ed",
   "metadata": {},
   "outputs": [],
   "source": [
    "# polynomial degree\n",
    "degs = [2, 6]"
   ]
  },
  {
   "cell_type": "code",
   "execution_count": null,
   "id": "56c4b03d",
   "metadata": {},
   "outputs": [],
   "source": [
    "def getPath(config, mthd):\n",
    "    config = deepcopy(config)\n",
    "    if mthd == \"spo\":\n",
    "        config.mthd = \"spo\"\n",
    "        config.lr = 1e-2\n",
    "    if mthd == \"spo l1\":\n",
    "        config.mthd = \"spo\"\n",
    "        config.batch = 32\n",
    "        config.lr = 1e-2\n",
    "        config.l1 = 1e-2\n",
    "    if mthd == \"spo l2\":\n",
    "        config.mthd = \"spo\"\n",
    "        config.lr = 1e-2\n",
    "        config.l2 = 1e-2\n",
    "    if mthd == \"dbb\":\n",
    "        config.mthd = \"dbb\"\n",
    "        config.loss = \"r\"\n",
    "        config.lr = 1e-1\n",
    "        config.smth = 20\n",
    "    if mthd == \"dbb l1\":\n",
    "        config.mthd = \"dbb\"\n",
    "        config.loss = \"r\"\n",
    "        config.lr = 1e-1\n",
    "        config.smth = 20\n",
    "        config.l1 = 1e-2\n",
    "    if mthd == \"dbb l2\":\n",
    "        config.mthd = \"dbb\"\n",
    "        config.loss = \"r\"\n",
    "        config.lr = 1e-1\n",
    "        config.smth = 20\n",
    "        config.l2 = 1e-2\n",
    "    if mthd == \"dpo\":\n",
    "        config.mthd = \"dpo\"\n",
    "        config.lr = 1e-2\n",
    "        config.samp = 1\n",
    "        config.eps = 1.0\n",
    "    if mthd == \"dpo l1\":\n",
    "        config.mthd = \"dpo\"\n",
    "        config.lr = 1e-2\n",
    "        config.samp = 1\n",
    "        config.eps = 1.0\n",
    "        config.l1 = 1e-2\n",
    "    if mthd == \"dpo l2\":\n",
    "        config.mthd = \"dpo\"\n",
    "        config.lr = 1e-2\n",
    "        config.samp = 1\n",
    "        config.eps = 1.0\n",
    "        config.l2 = 1e-2\n",
    "    if mthd == \"pfyl\":\n",
    "        config.mthd = \"pfyl\"\n",
    "        config.lr = 1e-2\n",
    "        config.samp = 1\n",
    "        config.eps = 1.0\n",
    "    if mthd == \"pfyl l1\":\n",
    "        config.mthd = \"pfyl\"\n",
    "        config.lr = 1e-2\n",
    "        config.samp = 1\n",
    "        config.eps = 1.0\n",
    "        config.l1 = 1e-2\n",
    "    if mthd == \"pfyl l2\":\n",
    "        config.mthd = \"pfyl\"\n",
    "        config.lr = 1e-2\n",
    "        config.samp = 1\n",
    "        config.eps = 1.0\n",
    "        config.l2 = 1e-2\n",
    "    path = utils.getSavePath(config)\n",
    "    return path"
   ]
  },
  {
   "cell_type": "code",
   "execution_count": null,
   "id": "778ede65",
   "metadata": {},
   "outputs": [],
   "source": [
    "def getDf(config, degs, mthd):\n",
    "    dfs = pd.DataFrame()\n",
    "    for deg in degs:\n",
    "        config.deg = deg\n",
    "        df = pd.read_csv(getPath(config, mthd))\n",
    "        dfs[deg] = df[\"Unamb SPO\"]\n",
    "    return dfs"
   ]
  },
  {
   "cell_type": "code",
   "execution_count": null,
   "id": "606b3f32",
   "metadata": {},
   "outputs": [],
   "source": [
    "def lighten(color, amount=0.9):\n",
    "    \"\"\"\n",
    "    Lightens the given color by multiplying (1-luminosity) by the given amount.\n",
    "    \"\"\"\n",
    "    import matplotlib.colors as mc\n",
    "    import colorsys\n",
    "    try:\n",
    "        c = mc.cnames[color]\n",
    "    except:\n",
    "        c = color\n",
    "    c = np.array(colorsys.rgb_to_hls(*mc.to_rgb(c)))\n",
    "    return colorsys.hls_to_rgb(c[0],1-amount * (1-c[1]),c[2])"
   ]
  },
  {
   "cell_type": "code",
   "execution_count": null,
   "id": "e139cb71",
   "metadata": {},
   "outputs": [],
   "source": [
    "def drawPlot(config, data, noise):\n",
    "    # set config\n",
    "    config = deepcopy(config)\n",
    "    config.data = data\n",
    "    config.noise = noise\n",
    "    # color map\n",
    "    cmap = tc.tol_cmap(\"rainbow_discrete\")(np.linspace(0, 1, 22))\n",
    "    colors = [cmap[16], cmap[7], cmap[10], cmap[5]]\n",
    "    for i in range(len(colors)):\n",
    "        colors[i] = lighten(colors[i])\n",
    "    # get df\n",
    "    df_spo   = getDf(config, degs, \"spo\")\n",
    "    df_spo1  = getDf(config, degs, \"spo l1\")\n",
    "    df_spo2  = getDf(config, degs, \"spo l2\")\n",
    "    df_dbb   = getDf(config, degs, \"dbb\")\n",
    "    df_dbb1  = getDf(config, degs, \"dbb l1\")\n",
    "    df_dbb2  = getDf(config, degs, \"dbb l2\")\n",
    "    df_dpo   = getDf(config, degs, \"dpo\")\n",
    "    df_dpo1  = getDf(config, degs, \"dpo l1\")\n",
    "    df_dpo2  = getDf(config, degs, \"dpo l2\")\n",
    "    df_pfyl  = getDf(config, degs, \"pfyl\")\n",
    "    df_pfyl1 = getDf(config, degs, \"pfyl l1\")\n",
    "    df_pfyl2 = getDf(config, degs, \"pfyl l2\")\n",
    "    # draw boxplot\n",
    "    fig = plt.figure(figsize=(16,6))\n",
    "    #######################################################################################################################\n",
    "    c = colors[0]\n",
    "    bp1 = plt.boxplot(df_spo, boxprops=dict(facecolor=c, color=c, linewidth=4), medianprops=dict(color=\"w\", linewidth=2),\n",
    "                      whiskerprops=dict(color=c, linewidth=2), capprops=dict(color=c, linewidth=2),\n",
    "                      flierprops=dict(markeredgecolor=c, marker=\"o\", markersize=5, markeredgewidth=2),\n",
    "                      patch_artist=True, positions=np.arange(df_spo.shape[1])-0.44, widths=0.06)\n",
    "    c = colors[0]\n",
    "    bp2 = plt.boxplot(df_spo1, boxprops=dict(facecolor=c, color=c, linewidth=4), medianprops=dict(color=\"w\", linewidth=2),\n",
    "                      whiskerprops=dict(color=c, linewidth=2), capprops=dict(color=c, linewidth=2),\n",
    "                      flierprops=dict(markeredgecolor=c, marker=\"o\", markersize=5, markeredgewidth=2),\n",
    "                      patch_artist=True, positions=np.arange(df_spo.shape[1])-0.36, widths=0.06)\n",
    "    for box in bp2['boxes']:\n",
    "        box.set(hatch=\"++++\", fill=False)\n",
    "    c = colors[0]\n",
    "    bp3 = plt.boxplot(df_spo2, boxprops=dict(facecolor=c, color=c, linewidth=4), medianprops=dict(color=\"w\", linewidth=2),\n",
    "                      whiskerprops=dict(color=c, linewidth=2), capprops=dict(color=c, linewidth=2),\n",
    "                      flierprops=dict(markeredgecolor=c, marker=\"o\", markersize=5, markeredgewidth=2),\n",
    "                      patch_artist=True, positions=np.arange(df_spo.shape[1])-0.28, widths=0.06)\n",
    "    for box in bp3[\"boxes\"]:\n",
    "        box.set(hatch=\"OO\", fill=False)\n",
    "    #######################################################################################################################\n",
    "    c = colors[1]\n",
    "    bp4 = plt.boxplot(df_dbb, boxprops=dict(facecolor=c, color=c, linewidth=4), medianprops=dict(color=\"w\", linewidth=2),\n",
    "                      whiskerprops=dict(color=c, linewidth=2), capprops=dict(color=c, linewidth=2),\n",
    "                      flierprops=dict(markeredgecolor=c, marker=\"o\", markersize=5, markeredgewidth=2),\n",
    "                      patch_artist=True, positions=np.arange(df_dbb.shape[1])-0.20, widths=0.06)\n",
    "    c = colors[1]\n",
    "    bp5 = plt.boxplot(df_dbb1, boxprops=dict(facecolor=c, color=c, linewidth=4), medianprops=dict(color=\"w\", linewidth=2),\n",
    "                      whiskerprops=dict(color=c, linewidth=2), capprops=dict(color=c, linewidth=2),\n",
    "                      flierprops=dict(markeredgecolor=c, marker=\"o\", markersize=5, markeredgewidth=2),\n",
    "                      patch_artist=True, positions=np.arange(df_dbb.shape[1])-0.12, widths=0.06)\n",
    "    for box in bp5[\"boxes\"]:\n",
    "        box.set(hatch=\"++++\", fill=False)\n",
    "    c = colors[1]\n",
    "    bp6 = plt.boxplot(df_dbb2, boxprops=dict(facecolor=c, color=c, linewidth=4), medianprops=dict(color=\"w\", linewidth=2),\n",
    "                      whiskerprops=dict(color=c, linewidth=2), capprops=dict(color=c, linewidth=2),\n",
    "                      flierprops=dict(markeredgecolor=c, marker=\"o\", markersize=5, markeredgewidth=2),\n",
    "                      patch_artist=True, positions=np.arange(df_dbb.shape[1])-0.04, widths=0.06)\n",
    "    for box in bp6[\"boxes\"]:\n",
    "        box.set(hatch=\"OO\", fill=False)\n",
    "    #######################################################################################################################\n",
    "    c = colors[2]\n",
    "    bp7 = plt.boxplot(df_dpo, boxprops=dict(facecolor=c, color=c, linewidth=4), medianprops=dict(color=\"w\", linewidth=2),\n",
    "                      whiskerprops=dict(color=c, linewidth=2), capprops=dict(color=c, linewidth=2),\n",
    "                      flierprops=dict(markeredgecolor=c, marker=\"o\", markersize=5, markeredgewidth=2),\n",
    "                      patch_artist=True, positions=np.arange(df_dbb.shape[1])+0.04, widths=0.06)\n",
    "    c = colors[2]\n",
    "    bp8 = plt.boxplot(df_dpo1, boxprops=dict(facecolor=c, color=c, linewidth=4), medianprops=dict(color=\"w\", linewidth=2),\n",
    "                      whiskerprops=dict(color=c, linewidth=2), capprops=dict(color=c, linewidth=2),\n",
    "                      flierprops=dict(markeredgecolor=c, marker=\"o\", markersize=5, markeredgewidth=2),\n",
    "                      patch_artist=True, positions=np.arange(df_dbb.shape[1])+0.12, widths=0.06)\n",
    "    for box in bp8[\"boxes\"]:\n",
    "        box.set(hatch=\"++++\", fill=False)\n",
    "    c = colors[2]\n",
    "    bp9 = plt.boxplot(df_dpo2, boxprops=dict(facecolor=c, color=c, linewidth=4), medianprops=dict(color=\"w\", linewidth=2),\n",
    "                      whiskerprops=dict(color=c, linewidth=2), capprops=dict(color=c, linewidth=2),\n",
    "                      flierprops=dict(markeredgecolor=c, marker=\"o\", markersize=5, markeredgewidth=2),\n",
    "                      patch_artist=True, positions=np.arange(df_dbb.shape[1])+0.20, widths=0.06)\n",
    "    for box in bp9[\"boxes\"]:\n",
    "        box.set(hatch=\"OO\", fill=False)\n",
    "    #######################################################################################################################\n",
    "    c = colors[3]\n",
    "    bpa = plt.boxplot(df_pfyl, boxprops=dict(facecolor=c, color=c, linewidth=4), medianprops=dict(color=\"w\", linewidth=2),\n",
    "                      whiskerprops=dict(color=c, linewidth=2), capprops=dict(color=c, linewidth=2),\n",
    "                      flierprops=dict(markeredgecolor=c, marker=\"o\", markersize=5, markeredgewidth=2),\n",
    "                      patch_artist=True, positions=np.arange(df_dbb.shape[1])+0.28, widths=0.06)\n",
    "    c = colors[3]\n",
    "    bpb = plt.boxplot(df_pfyl1, boxprops=dict(facecolor=c, color=c, linewidth=4), medianprops=dict(color=\"w\", linewidth=2),\n",
    "                      whiskerprops=dict(color=c, linewidth=2), capprops=dict(color=c, linewidth=2),\n",
    "                      flierprops=dict(markeredgecolor=c, marker=\"o\", markersize=5, markeredgewidth=2),\n",
    "                      patch_artist=True, positions=np.arange(df_dbb.shape[1])+0.36, widths=0.06)\n",
    "    for box in bpb[\"boxes\"]:\n",
    "        box.set(hatch=\"++++\", fill=False)\n",
    "    c = colors[3]\n",
    "    bpc = plt.boxplot(df_pfyl2, boxprops=dict(facecolor=c, color=c, linewidth=4), medianprops=dict(color=\"w\", linewidth=2),\n",
    "                      whiskerprops=dict(color=c, linewidth=2), capprops=dict(color=c, linewidth=2),\n",
    "                      flierprops=dict(markeredgecolor=c, marker=\"o\", markersize=5, markeredgewidth=2),\n",
    "                      patch_artist=True, positions=np.arange(df_dbb.shape[1])+0.44, widths=0.06)\n",
    "    for box in bpc[\"boxes\"]:\n",
    "        box.set(hatch=\"OO\", fill=False)\n",
    "    # vertical line\n",
    "    plt.axvline(x=0.5, color=\"k\", linestyle=\"--\", linewidth=1.5)\n",
    "    #plt.axvline(x=1.5, color=\"k\", linestyle=\"--\", linewidth=1.5)\n",
    "    #plt.axvline(x=2.5, color=\"k\", linestyle=\"--\", linewidth=1.5)\n",
    "    # grid\n",
    "    plt.grid(color=\"grey\", alpha=0.5, linewidth=0.5, which=\"major\", axis=\"y\")\n",
    "    # labels and ticks\n",
    "    plt.xlabel(\"Polynomial Degree\", fontsize=36)\n",
    "    plt.xticks(ticks=range(len(degs)), labels=degs, fontsize=28)\n",
    "    plt.ylabel(\"Normalized Regret\", fontsize=36)\n",
    "    plt.yticks(fontsize=24)\n",
    "    plt.xlim(-0.5, 1.5)\n",
    "    plt.ylim(-0.01, 0.39)\n",
    "    ax = plt.gca()\n",
    "    ax.yaxis.set_major_formatter(ticker.FormatStrFormatter(\"%.2f\"))\n",
    "    plt.title(\"Shortest Path\\nTraining Set Size = {}, Noise Half−width = {}\".format(config.data, config.noise), fontsize=30)\n",
    "    plt.legend([bp1[\"boxes\"][0], bp2[\"boxes\"][0], bp3[\"boxes\"][0], bp4[\"boxes\"][0], bp5[\"boxes\"][0], bp6[\"boxes\"][0],\n",
    "                bp7[\"boxes\"][0], bp8[\"boxes\"][0], bp9[\"boxes\"][0], bpa[\"boxes\"][0], bpb[\"boxes\"][0], bpc[\"boxes\"][0]],\n",
    "               [\"SPO+\",\"SPO+ L1\",\"SPO+ L2\",\"DBB\",\"DBB L1\",\"DBB L2\",\"DPO\",\"DPO L1\",\"DPO L2\",\"PFYL\",\"PFYL L1\",\"PFYL L2\"], \n",
    "               fontsize=20, loc=2, labelspacing=0.2,\n",
    "               handlelength=1, ncol=4)\n",
    "    # save\n",
    "    plt.show()\n",
    "    fig.savefig(\"./images/reg-sp-n{}e{}.pdf\".format(data,int(10*noise)), dpi=300)"
   ]
  },
  {
   "cell_type": "markdown",
   "id": "surface-wellington",
   "metadata": {},
   "source": [
    "## n = 100, e = 0"
   ]
  },
  {
   "cell_type": "code",
   "execution_count": null,
   "id": "8a1a400f",
   "metadata": {
    "scrolled": false
   },
   "outputs": [],
   "source": [
    "drawPlot(config, data=100, noise=0.0)"
   ]
  },
  {
   "cell_type": "markdown",
   "id": "spread-washer",
   "metadata": {},
   "source": [
    "## n = 100, e = 0.5 "
   ]
  },
  {
   "cell_type": "code",
   "execution_count": null,
   "id": "specific-greece",
   "metadata": {
    "scrolled": false
   },
   "outputs": [],
   "source": [
    "drawPlot(config, data=100, noise=0.5)"
   ]
  },
  {
   "cell_type": "markdown",
   "id": "above-myrtle",
   "metadata": {},
   "source": [
    "## n = 1000, e = 0"
   ]
  },
  {
   "cell_type": "code",
   "execution_count": null,
   "id": "first-improvement",
   "metadata": {},
   "outputs": [],
   "source": [
    "drawPlot(config, data=1000, noise=0.0)"
   ]
  },
  {
   "cell_type": "markdown",
   "id": "finnish-houston",
   "metadata": {},
   "source": [
    "## n = 1000, e = 0.5 "
   ]
  },
  {
   "cell_type": "code",
   "execution_count": null,
   "id": "fifty-banks",
   "metadata": {
    "scrolled": false
   },
   "outputs": [],
   "source": [
    "drawPlot(config, data=1000, noise=0.5)"
   ]
  },
  {
   "cell_type": "markdown",
   "id": "76726660",
   "metadata": {},
   "source": [
    "## n = 5000, e = 0"
   ]
  },
  {
   "cell_type": "code",
   "execution_count": null,
   "id": "a3cfd290",
   "metadata": {},
   "outputs": [],
   "source": [
    "drawPlot(config, data=5000, noise=0.0)"
   ]
  },
  {
   "cell_type": "markdown",
   "id": "2de35a93",
   "metadata": {},
   "source": [
    "## n = 5000, e = 0.5 "
   ]
  },
  {
   "cell_type": "code",
   "execution_count": null,
   "id": "a8259cc3",
   "metadata": {},
   "outputs": [],
   "source": [
    "drawPlot(config, data=5000, noise=0.5)"
   ]
  },
  {
   "cell_type": "code",
   "execution_count": null,
   "id": "d006fd44",
   "metadata": {},
   "outputs": [],
   "source": []
  }
 ],
 "metadata": {
  "kernelspec": {
   "display_name": "Python 3 (ipykernel)",
   "language": "python",
   "name": "python3"
  },
  "language_info": {
   "codemirror_mode": {
    "name": "ipython",
    "version": 3
   },
   "file_extension": ".py",
   "mimetype": "text/x-python",
   "name": "python",
   "nbconvert_exporter": "python",
   "pygments_lexer": "ipython3",
   "version": "3.9.13"
  }
 },
 "nbformat": 4,
 "nbformat_minor": 5
}
