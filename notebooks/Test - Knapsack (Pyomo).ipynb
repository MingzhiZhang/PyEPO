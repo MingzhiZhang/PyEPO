{
 "cells": [
  {
   "cell_type": "code",
   "execution_count": 1,
   "id": "985d9f68",
   "metadata": {},
   "outputs": [],
   "source": [
    "# set work dir\n",
    "import os\n",
    "os.chdir(\"../pkg\")"
   ]
  },
  {
   "cell_type": "code",
   "execution_count": 2,
   "id": "4a8178d0",
   "metadata": {},
   "outputs": [
    {
     "name": "stdout",
     "output_type": "stream",
     "text": [
      "Auto-Sklearn cannot be imported.\n"
     ]
    },
    {
     "data": {
      "text/plain": [
       "<torch._C.Generator at 0x24fc9ce3f10>"
      ]
     },
     "execution_count": 2,
     "metadata": {},
     "output_type": "execute_result"
    }
   ],
   "source": [
    "import time\n",
    "import pyepo\n",
    "import torch\n",
    "from matplotlib import pyplot as plt\n",
    "import scienceplots\n",
    "plt.style.reload_library()\n",
    "plt.style.use(\"science\")\n",
    "import numpy as np\n",
    "from tqdm import tqdm\n",
    "torch.manual_seed(135)"
   ]
  },
  {
   "cell_type": "markdown",
   "id": "610273f3",
   "metadata": {},
   "source": [
    "## Init Data"
   ]
  },
  {
   "cell_type": "code",
   "execution_count": 3,
   "id": "b294594d",
   "metadata": {},
   "outputs": [],
   "source": [
    "# generate data for grid network (features and costs)\n",
    "m = 16 # number of items\n",
    "n = 100 # number of data\n",
    "p = 5 # size of feature\n",
    "deg = 4 # polynomial degree\n",
    "dim = 3 # dimension of knapsack\n",
    "cap = [10] * dim # capacity\n",
    "weights, x, c = pyepo.data.knapsack.genData(n+1000, p, m, deg=deg, dim=dim)"
   ]
  },
  {
   "cell_type": "code",
   "execution_count": 4,
   "id": "1a1f8e4a",
   "metadata": {},
   "outputs": [
    {
     "data": {
      "text/plain": [
       "array([[4.59, 4.87, 5.19, 7.59, 6.8 , 4.97, 4.84, 3.22, 7.9 , 3.62, 3.12,\n",
       "        6.81, 7.09, 3.23, 4.47, 5.23],\n",
       "       [6.11, 5.23, 4.27, 6.66, 5.21, 3.72, 7.83, 5.64, 7.56, 3.28, 4.31,\n",
       "        3.85, 6.43, 4.26, 7.56, 6.4 ],\n",
       "       [6.09, 6.4 , 4.5 , 6.31, 6.35, 3.07, 6.03, 7.39, 3.48, 5.57, 6.27,\n",
       "        4.55, 5.64, 5.66, 3.27, 6.68]])"
      ]
     },
     "execution_count": 4,
     "metadata": {},
     "output_type": "execute_result"
    }
   ],
   "source": [
    "weights"
   ]
  },
  {
   "cell_type": "markdown",
   "id": "2bd2586e",
   "metadata": {},
   "source": [
    "## Optimization Model "
   ]
  },
  {
   "cell_type": "code",
   "execution_count": 5,
   "id": "95c1fde4",
   "metadata": {},
   "outputs": [
    {
     "name": "stdout",
     "output_type": "stream",
     "text": [
      "Solver in the background: glpk\n"
     ]
    }
   ],
   "source": [
    "#ks_model = pyepo.model.omo.knapsackModel(weights, cap, solver=\"gurobi\")\n",
    "ks_model = pyepo.model.omo.knapsackModel(weights, cap, solver=\"glpk\")"
   ]
  },
  {
   "cell_type": "code",
   "execution_count": 6,
   "id": "24e5bd87",
   "metadata": {},
   "outputs": [
    {
     "name": "stdout",
     "output_type": "stream",
     "text": [
      "[0.0, 0.0, 0.0, 0.0, 0.0, 1.0, 0.0, 0.0, 0.0, 0.0, 0.0, 0.0, 0.0, 1.0, 0.0, 0.0]\n",
      "Obj: 18.0\n",
      "5\n",
      "13\n"
     ]
    }
   ],
   "source": [
    "# solve\n",
    "ks_model.setObj([i for i in range(m)])\n",
    "sol, obj = ks_model.solve()\n",
    "print(sol)\n",
    "print(\"Obj: {}\".format(obj))\n",
    "for i in ks_model.items:\n",
    "    if sol[i] > 1e-3:\n",
    "        print(i)"
   ]
  },
  {
   "cell_type": "code",
   "execution_count": 7,
   "id": "9a11572a",
   "metadata": {},
   "outputs": [
    {
     "name": "stdout",
     "output_type": "stream",
     "text": [
      "Solver in the background: glpk\n"
     ]
    }
   ],
   "source": [
    "# relax\n",
    "ks_model_rel = ks_model.relax()"
   ]
  },
  {
   "cell_type": "code",
   "execution_count": 8,
   "id": "5c09dd38",
   "metadata": {},
   "outputs": [
    {
     "name": "stdout",
     "output_type": "stream",
     "text": [
      "[0.0, 0.0, 0.0, 0.0, 0.0, 0.0, 0.0, 0.0, 0.0, 0.0, 0.0, 0.75825065494684, 0.0, 0.913521784638344, 0.421842880409434, 0.0]\n",
      "Obj: 26.12234073044579\n",
      "11\n",
      "13\n",
      "14\n"
     ]
    }
   ],
   "source": [
    "# solve\n",
    "ks_model_rel.setObj([i for i in range(m)])\n",
    "sol, obj = ks_model_rel.solve()\n",
    "print(sol)\n",
    "print(\"Obj: {}\".format(obj))\n",
    "for i in ks_model_rel.items:\n",
    "    if sol[i] > 1e-3:\n",
    "        print(i)"
   ]
  },
  {
   "cell_type": "markdown",
   "id": "4bec37e4",
   "metadata": {},
   "source": [
    "## Data Loader "
   ]
  },
  {
   "cell_type": "code",
   "execution_count": 9,
   "id": "261aed4e",
   "metadata": {},
   "outputs": [],
   "source": [
    "from sklearn.model_selection import train_test_split\n",
    "from torch.utils.data import DataLoader"
   ]
  },
  {
   "cell_type": "code",
   "execution_count": 10,
   "id": "4eda340b",
   "metadata": {},
   "outputs": [],
   "source": [
    "# data split\n",
    "x_train, x_test, c_train, c_test = train_test_split(x, c, test_size=1000, random_state=246)"
   ]
  },
  {
   "cell_type": "code",
   "execution_count": 11,
   "id": "a0e0ef0b",
   "metadata": {},
   "outputs": [
    {
     "name": "stdout",
     "output_type": "stream",
     "text": [
      "Optimizing for optDataset...\n"
     ]
    },
    {
     "name": "stderr",
     "output_type": "stream",
     "text": [
      "100%|█████████████████████████████████████████████████████████████████████████████████████████████████| 100/100 [00:05<00:00, 18.36it/s]\n"
     ]
    }
   ],
   "source": [
    "# get training data set\n",
    "ks_dataset_train = pyepo.data.dataset.optDataset(ks_model, x_train, c_train)"
   ]
  },
  {
   "cell_type": "code",
   "execution_count": 12,
   "id": "fad71155",
   "metadata": {},
   "outputs": [
    {
     "name": "stdout",
     "output_type": "stream",
     "text": [
      "Optimizing for optDataset...\n"
     ]
    },
    {
     "name": "stderr",
     "output_type": "stream",
     "text": [
      "100%|█████████████████████████████████████████████████████████████████████████████████████████████████| 100/100 [00:05<00:00, 19.26it/s]\n"
     ]
    }
   ],
   "source": [
    "# get training data set for relaxation\n",
    "ks_dataset_train_rel = pyepo.data.dataset.optDataset(ks_model_rel, x_train, c_train)"
   ]
  },
  {
   "cell_type": "code",
   "execution_count": 13,
   "id": "c8fc0755",
   "metadata": {},
   "outputs": [
    {
     "name": "stdout",
     "output_type": "stream",
     "text": [
      "Optimizing for optDataset...\n"
     ]
    },
    {
     "name": "stderr",
     "output_type": "stream",
     "text": [
      "100%|███████████████████████████████████████████████████████████████████████████████████████████████| 1000/1000 [00:54<00:00, 18.29it/s]\n"
     ]
    }
   ],
   "source": [
    "# get test data set\n",
    "ks_dataset_test = pyepo.data.dataset.optDataset(ks_model, x_test, c_test)"
   ]
  },
  {
   "cell_type": "code",
   "execution_count": 14,
   "id": "bf0bbb3e",
   "metadata": {},
   "outputs": [],
   "source": [
    "# get data loader\n",
    "batch_size = 32\n",
    "ks_loader_train = DataLoader(ks_dataset_train, batch_size=batch_size, shuffle=True)\n",
    "ks_loader_train_rel = DataLoader(ks_dataset_train_rel, batch_size=batch_size, shuffle=True)\n",
    "ks_loader_test = DataLoader(ks_dataset_test, batch_size=batch_size, shuffle=False)"
   ]
  },
  {
   "cell_type": "code",
   "execution_count": 15,
   "id": "a542a7df",
   "metadata": {},
   "outputs": [],
   "source": [
    "for i, data in enumerate(ks_loader_train): \n",
    "    x, c, w, z = data\n",
    "    break"
   ]
  },
  {
   "cell_type": "code",
   "execution_count": 16,
   "id": "75fc2763",
   "metadata": {},
   "outputs": [
    {
     "data": {
      "text/plain": [
       "torch.Size([32, 5])"
      ]
     },
     "execution_count": 16,
     "metadata": {},
     "output_type": "execute_result"
    }
   ],
   "source": [
    "x.shape"
   ]
  },
  {
   "cell_type": "code",
   "execution_count": 17,
   "id": "5e50a821",
   "metadata": {},
   "outputs": [
    {
     "data": {
      "text/plain": [
       "torch.Size([32, 16])"
      ]
     },
     "execution_count": 17,
     "metadata": {},
     "output_type": "execute_result"
    }
   ],
   "source": [
    "c.shape"
   ]
  },
  {
   "cell_type": "code",
   "execution_count": 18,
   "id": "074c9398",
   "metadata": {},
   "outputs": [
    {
     "data": {
      "text/plain": [
       "torch.Size([32, 16])"
      ]
     },
     "execution_count": 18,
     "metadata": {},
     "output_type": "execute_result"
    }
   ],
   "source": [
    "w.shape"
   ]
  },
  {
   "cell_type": "code",
   "execution_count": 19,
   "id": "20de02c7",
   "metadata": {},
   "outputs": [
    {
     "data": {
      "text/plain": [
       "torch.Size([32, 1])"
      ]
     },
     "execution_count": 19,
     "metadata": {},
     "output_type": "execute_result"
    }
   ],
   "source": [
    "z.shape"
   ]
  },
  {
   "cell_type": "markdown",
   "id": "ba836667",
   "metadata": {},
   "source": [
    "## Linear Regression from Scikit-Lear "
   ]
  },
  {
   "cell_type": "code",
   "execution_count": 20,
   "id": "bac0dc77",
   "metadata": {},
   "outputs": [],
   "source": [
    "from sklearn.linear_model import LinearRegression"
   ]
  },
  {
   "cell_type": "code",
   "execution_count": 21,
   "id": "2888cc9b",
   "metadata": {},
   "outputs": [],
   "source": [
    "# prediction model\n",
    "reg = LinearRegression()"
   ]
  },
  {
   "cell_type": "markdown",
   "id": "cc19e83e",
   "metadata": {},
   "source": [
    "## Two-Stage "
   ]
  },
  {
   "cell_type": "code",
   "execution_count": 22,
   "id": "6adcf558",
   "metadata": {},
   "outputs": [],
   "source": [
    "# build model\n",
    "twostage_model = pyepo.twostage.sklearnPred(reg)"
   ]
  },
  {
   "cell_type": "code",
   "execution_count": 23,
   "id": "86fe3c54",
   "metadata": {},
   "outputs": [
    {
     "data": {
      "text/plain": [
       "MultiOutputRegressor(estimator=LinearRegression())"
      ]
     },
     "execution_count": 23,
     "metadata": {},
     "output_type": "execute_result"
    }
   ],
   "source": [
    "# training\n",
    "twostage_model.fit(ks_dataset_train.feats, ks_dataset_train.costs)"
   ]
  },
  {
   "cell_type": "code",
   "execution_count": 24,
   "id": "e2e103e7",
   "metadata": {},
   "outputs": [],
   "source": [
    "# prediction\n",
    "c_test_pred = twostage_model.predict(ks_dataset_test.feats)"
   ]
  },
  {
   "cell_type": "code",
   "execution_count": 25,
   "id": "5aa3cd7f",
   "metadata": {
    "scrolled": false
   },
   "outputs": [
    {
     "name": "stderr",
     "output_type": "stream",
     "text": [
      "100%|███████████████████████████████████████████████████████████████████████████████████████████████| 1000/1000 [02:55<00:00,  5.70it/s]\n"
     ]
    },
    {
     "name": "stdout",
     "output_type": "stream",
     "text": [
      "Normalized Regret: 2.19%\n",
      "Normalized Unambiguous Regret: 2.19%\n"
     ]
    }
   ],
   "source": [
    "# evaluate\n",
    "truespo = 0\n",
    "unambspo = 0\n",
    "for i in tqdm(range(1000)):\n",
    "    c_pred_i = c_test_pred[i]\n",
    "    c_true_i = ks_dataset_test.costs[i]\n",
    "    z_true_i = ks_dataset_test.objs[i,0]\n",
    "    truespo += pyepo.metric.calRegret(ks_model, c_pred_i, c_true_i, z_true_i)\n",
    "    unambspo += pyepo.metric.calUnambRegret(ks_model, c_pred_i, c_true_i, z_true_i)\n",
    "time.sleep(1)\n",
    "print(\"Normalized Regret: {:.2f}%\".format(truespo / abs(ks_dataset_test.objs.sum()) * 100))\n",
    "print(\"Normalized Unambiguous Regret: {:.2f}%\".format(unambspo / abs(ks_dataset_test.objs.sum()) * 100))"
   ]
  },
  {
   "cell_type": "code",
   "execution_count": 26,
   "id": "feeeed33",
   "metadata": {
    "scrolled": false
   },
   "outputs": [
    {
     "name": "stdout",
     "output_type": "stream",
     "text": [
      "Sample 0:\n",
      "    True cost: 1.00, 2.00, 2.00, 1.00, 2.00, 2.00, 1.00, 3.00, 2.00, 2.00, 2.00, 1.00, 2.00, 2.00, 2.00, 2.00\n",
      "    Pred cost: 0.41, 2.34, 1.81, 0.75, 2.72, 2.72, -0.02, 3.00, 1.67, 1.44, 1.81, 0.99, 2.72, 2.00, 2.16, 1.67\n",
      "    True sol: 0, 0, 0, 0, 0, 1, 0, 0, 0, 1, 0, 0, 0, 0, 0, 0, True obj: 4.00\n",
      "    Pred sol: 0, 1, 0, 0, 0, 1, 0, 0, 0, 0, 0, 0, 0, 0, 0, 0, Pred obj: 4.00\n",
      "\n",
      "Sample 1:\n",
      "    True cost: 8.00, 12.00, 5.00, 13.00, 3.00, 3.00, 18.00, 3.00, 12.00, 7.00, 5.00, 12.00, 3.00, 8.00, 3.00, 12.00\n",
      "    Pred cost: 7.39, 8.81, 5.99, 10.39, 3.77, 3.77, 11.57, 3.00, 8.53, 6.12, 5.99, 9.91, 3.77, 8.10, 4.12, 8.53\n",
      "    True sol: 0, 0, 0, 0, 0, 0, 1, 0, 0, 0, 0, 0, 0, 0, 0, 0, True obj: 18.00\n",
      "    Pred sol: 0, 1, 0, 0, 0, 1, 0, 0, 0, 0, 0, 0, 0, 0, 0, 0, Pred obj: 15.00\n",
      "\n",
      "Sample 2:\n",
      "    True cost: 7.00, 2.00, 5.00, 5.00, 5.00, 5.00, 5.00, 3.00, 3.00, 4.00, 5.00, 2.00, 5.00, 3.00, 4.00, 3.00\n",
      "    Pred cost: 8.03, 1.69, 5.93, 7.02, 5.71, 5.71, 7.22, 3.00, 3.65, 4.95, 5.93, 3.41, 5.71, 4.79, 4.59, 3.65\n",
      "    True sol: 1, 0, 0, 0, 0, 1, 0, 0, 0, 0, 0, 0, 0, 0, 0, 0, True obj: 12.00\n",
      "    Pred sol: 1, 0, 0, 0, 0, 1, 0, 0, 0, 0, 0, 0, 0, 0, 0, 0, Pred obj: 12.00\n",
      "\n",
      "Sample 3:\n",
      "    True cost: 3.00, 1.00, 3.00, 3.00, 6.00, 6.00, 2.00, 3.00, 2.00, 2.00, 3.00, 1.00, 6.00, 4.00, 4.00, 2.00\n",
      "    Pred cost: 5.13, -0.33, 3.93, 5.78, 6.41, 6.41, 4.17, 3.00, 2.64, 2.54, 3.93, 1.69, 6.41, 5.13, 4.68, 2.64\n",
      "    True sol: 0, 0, 0, 0, 0, 1, 0, 0, 0, 0, 0, 0, 0, 1, 0, 0, True obj: 10.00\n",
      "    Pred sol: 0, 0, 0, 0, 0, 1, 0, 0, 0, 0, 0, 0, 0, 1, 0, 0, Pred obj: 10.00\n",
      "\n",
      "Sample 4:\n",
      "    True cost: 4.00, 15.00, 4.00, 5.00, 6.00, 6.00, 10.00, 3.00, 9.00, 7.00, 4.00, 40.00, 6.00, 15.00, 12.00, 9.00\n",
      "    Pred cost: 4.44, 10.45, 4.58, 6.49, 5.45, 5.45, 8.96, 3.00, 8.10, 6.69, 4.58, 17.01, 5.45, 9.79, 8.60, 8.10\n",
      "    True sol: 0, 0, 0, 0, 0, 0, 0, 0, 0, 0, 0, 1, 0, 0, 0, 0, True obj: 40.00\n",
      "    Pred sol: 0, 0, 0, 0, 0, 0, 0, 0, 0, 0, 0, 1, 0, 0, 0, 0, Pred obj: 40.00\n",
      "\n",
      "Sample 5:\n",
      "    True cost: 5.00, 4.00, 5.00, 5.00, 4.00, 4.00, 5.00, 3.00, 3.00, 3.00, 5.00, 2.00, 4.00, 4.00, 2.00, 3.00\n",
      "    Pred cost: 6.20, 4.10, 6.07, 6.87, 4.98, 4.98, 7.13, 3.00, 3.78, 3.27, 6.07, 2.88, 4.98, 5.79, 2.22, 3.78\n",
      "    True sol: 1, 0, 0, 0, 0, 1, 0, 0, 0, 0, 0, 0, 0, 0, 0, 0, True obj: 9.00\n",
      "    Pred sol: 1, 0, 0, 0, 0, 1, 0, 0, 0, 0, 0, 0, 0, 0, 0, 0, Pred obj: 9.00\n",
      "\n",
      "Sample 6:\n",
      "    True cost: 8.00, 4.00, 3.00, 6.00, 2.00, 2.00, 8.00, 3.00, 9.00, 10.00, 3.00, 9.00, 2.00, 2.00, 7.00, 9.00\n",
      "    Pred cost: 7.50, 4.21, 3.25, 7.00, 2.06, 2.06, 7.81, 3.00, 7.37, 8.52, 3.25, 8.69, 2.06, 2.60, 6.93, 7.37\n",
      "    True sol: 0, 0, 0, 0, 0, 1, 0, 0, 0, 1, 0, 0, 0, 0, 0, 0, True obj: 12.00\n",
      "    Pred sol: 0, 0, 0, 0, 0, 1, 0, 0, 0, 1, 0, 0, 0, 0, 0, 0, Pred obj: 12.00\n",
      "\n",
      "Sample 7:\n",
      "    True cost: 5.00, 3.00, 7.00, 7.00, 8.00, 8.00, 6.00, 3.00, 3.00, 2.00, 7.00, 2.00, 8.00, 9.00, 2.00, 3.00\n",
      "    Pred cost: 7.03, 4.16, 7.76, 8.88, 7.70, 7.70, 8.81, 3.00, 3.49, 1.86, 7.76, 2.99, 7.70, 9.19, 2.13, 3.49\n",
      "    True sol: 0, 0, 0, 0, 0, 1, 0, 0, 0, 0, 0, 0, 0, 1, 0, 0, True obj: 17.00\n",
      "    Pred sol: 0, 0, 0, 0, 0, 1, 0, 0, 0, 0, 0, 0, 0, 1, 0, 0, Pred obj: 17.00\n",
      "\n",
      "Sample 8:\n",
      "    True cost: 8.00, 4.00, 5.00, 4.00, 6.00, 6.00, 6.00, 3.00, 4.00, 7.00, 5.00, 9.00, 6.00, 5.00, 8.00, 4.00\n",
      "    Pred cost: 8.44, 4.34, 6.34, 6.23, 6.08, 6.08, 8.32, 3.00, 4.72, 7.16, 6.34, 9.29, 6.08, 5.82, 7.33, 4.72\n",
      "    True sol: 1, 0, 0, 0, 0, 1, 0, 0, 0, 0, 0, 0, 0, 0, 0, 0, True obj: 14.00\n",
      "    Pred sol: 1, 0, 0, 0, 0, 1, 0, 0, 0, 0, 0, 0, 0, 0, 0, 0, Pred obj: 14.00\n",
      "\n",
      "Sample 9:\n",
      "    True cost: 3.00, 2.00, 2.00, 5.00, 4.00, 4.00, 2.00, 3.00, 5.00, 3.00, 2.00, 3.00, 4.00, 4.00, 6.00, 5.00\n",
      "    Pred cost: 3.40, 1.21, 1.34, 6.68, 4.34, 4.34, 4.23, 3.00, 5.56, 3.33, 1.34, 4.53, 4.34, 5.01, 5.68, 5.56\n",
      "    True sol: 0, 0, 0, 0, 0, 1, 0, 0, 0, 0, 0, 0, 0, 1, 0, 0, True obj: 8.00\n",
      "    Pred sol: 0, 0, 0, 0, 0, 1, 0, 0, 0, 0, 0, 0, 0, 1, 0, 0, Pred obj: 8.00\n",
      "\n"
     ]
    }
   ],
   "source": [
    "# compare solutions\n",
    "for i, data in enumerate(ks_loader_test):\n",
    "    # load data\n",
    "    x, c, w, z = data\n",
    "    # cuda\n",
    "    if torch.cuda.is_available():\n",
    "        x, c, w, z = x.cuda(), c.cuda(), w.cuda(), z.cuda()\n",
    "    # convert to numpy\n",
    "    x = x.to(\"cpu\").detach().numpy()\n",
    "    c = c.to(\"cpu\").detach().numpy()\n",
    "    w = w.to(\"cpu\").detach().numpy()\n",
    "    z = z.to(\"cpu\").detach().numpy()\n",
    "    # predict\n",
    "    cp = twostage_model.predict(x)\n",
    "    for j in range(min(10, batch_size)):\n",
    "        print(\"Sample {}:\".format(j))\n",
    "        print(\"    True cost:\", \", \".join([\"{:.2f}\".format(cost) for cost in c[j]]))\n",
    "        print(\"    Pred cost:\", \", \".join([\"{:.2f}\".format(cost) for cost in cp[j]]))\n",
    "        # solve cost from prediction\n",
    "        ks_model.setObj(cp[j])\n",
    "        wpj, _ = ks_model.solve()\n",
    "        zpj = np.dot(c[j], wpj)\n",
    "        print(\"    True sol: \" + \", \".join([\"{:.0f}\".format(x) for x in w[j]]) + \", True obj: {:.2f}\".format(z[j,0]))\n",
    "        print(\"    Pred sol: \"+  \", \".join([\"{:.0f}\".format(x) for x in wpj]) + \", Pred obj: {:.2f}\".format(zpj))\n",
    "        print()\n",
    "    break"
   ]
  },
  {
   "cell_type": "markdown",
   "id": "8596e709",
   "metadata": {},
   "source": [
    "## Linear Regression from PyTorch"
   ]
  },
  {
   "cell_type": "code",
   "execution_count": 27,
   "id": "e88c361d",
   "metadata": {},
   "outputs": [],
   "source": [
    "from torch import nn"
   ]
  },
  {
   "cell_type": "code",
   "execution_count": 28,
   "id": "5ed32466",
   "metadata": {},
   "outputs": [],
   "source": [
    "# build linear model\n",
    "class LinearRegression(nn.Module):\n",
    "    \n",
    "    def __init__(self):\n",
    "        super(LinearRegression, self).__init__()\n",
    "        self.linear = nn.Linear(p, m)\n",
    "    \n",
    "    def forward(self, x):\n",
    "        out = self.linear(x)\n",
    "        return out"
   ]
  },
  {
   "cell_type": "markdown",
   "id": "fa3f22f2",
   "metadata": {},
   "source": [
    "## SPO+ "
   ]
  },
  {
   "cell_type": "code",
   "execution_count": 29,
   "id": "07753d5a",
   "metadata": {},
   "outputs": [],
   "source": [
    "# init model\n",
    "reg = LinearRegression()\n",
    "# cuda\n",
    "if torch.cuda.is_available():\n",
    "    reg = reg.cuda()"
   ]
  },
  {
   "cell_type": "code",
   "execution_count": 30,
   "id": "d4d0d9b8",
   "metadata": {},
   "outputs": [],
   "source": [
    "# set optimizer\n",
    "optimizer = torch.optim.Adam(reg.parameters(), lr=1e-2)"
   ]
  },
  {
   "cell_type": "code",
   "execution_count": 31,
   "id": "fb3637bb",
   "metadata": {},
   "outputs": [
    {
     "name": "stdout",
     "output_type": "stream",
     "text": [
      "Num of cores: 4\n"
     ]
    }
   ],
   "source": [
    "# init SPO+ loss\n",
    "spop = pyepo.func.SPOPlus(ks_model, processes=4)"
   ]
  },
  {
   "cell_type": "code",
   "execution_count": 32,
   "id": "5a05c841",
   "metadata": {
    "scrolled": false
   },
   "outputs": [
    {
     "name": "stdout",
     "output_type": "stream",
     "text": [
      "Epoch   0, Loss:  20.2324, Regret: 51.8565%, Unambiguous Regret: 51.8565%\n",
      "Epoch  10, Loss:   5.6085, Regret: 20.4210%, Unambiguous Regret: 20.4210%\n",
      "Epoch  20, Loss:   7.2303, Regret:  7.9321%, Unambiguous Regret:  7.9321%\n",
      "Epoch  30, Loss:   3.6267, Regret:  4.6278%, Unambiguous Regret:  4.6278%\n",
      "Epoch  40, Loss:  10.6098, Regret:  3.5353%, Unambiguous Regret:  3.5353%\n",
      "Epoch  50, Loss:   4.0132, Regret:  3.0734%, Unambiguous Regret:  3.0734%\n",
      "Epoch  60, Loss:   0.3413, Regret:  2.6470%, Unambiguous Regret:  2.6470%\n",
      "Epoch  70, Loss:  -0.0000, Regret:  2.1762%, Unambiguous Regret:  2.1762%\n",
      "Epoch  80, Loss:   0.8968, Regret:  1.7232%, Unambiguous Regret:  1.7232%\n",
      "Epoch  90, Loss:   1.4864, Regret:  1.4479%, Unambiguous Regret:  1.4479%\n",
      "Epoch 100, Loss:   0.9572, Regret:  1.3324%, Unambiguous Regret:  1.3324%\n",
      "Epoch 110, Loss:   0.2184, Regret:  1.4123%, Unambiguous Regret:  1.4123%\n",
      "Epoch 120, Loss:   0.6577, Regret:  1.3146%, Unambiguous Regret:  1.3146%\n",
      "Epoch 130, Loss:   0.5289, Regret:  1.4212%, Unambiguous Regret:  1.4212%\n",
      "Epoch 140, Loss:   0.6143, Regret:  1.2969%, Unambiguous Regret:  1.2969%\n",
      "Epoch 150, Loss:   0.1400, Regret:  1.2524%, Unambiguous Regret:  1.2524%\n",
      "Epoch 160, Loss:   0.0000, Regret:  1.1903%, Unambiguous Regret:  1.1903%\n",
      "Epoch 170, Loss:   0.0148, Regret:  1.1814%, Unambiguous Regret:  1.1814%\n",
      "Epoch 180, Loss:   0.3124, Regret:  1.2347%, Unambiguous Regret:  1.2347%\n",
      "Epoch 190, Loss:   0.8204, Regret:  1.1725%, Unambiguous Regret:  1.1725%\n"
     ]
    }
   ],
   "source": [
    "# train model\n",
    "num_epochs = 200\n",
    "reg.train()\n",
    "loss_log = []\n",
    "regret_log = []\n",
    "unambregret_log = []\n",
    "for epoch in range(num_epochs):\n",
    "    # load data\n",
    "    for i, data in enumerate(ks_loader_train):\n",
    "        x, c, w, z = data\n",
    "        # cuda\n",
    "        if torch.cuda.is_available():\n",
    "            x, c, w, z = x.cuda(), c.cuda(), w.cuda(), z.cuda()\n",
    "        # forward pass\n",
    "        cp = reg(x)\n",
    "        loss = spop(cp, c, w, z).mean()\n",
    "        # backward pass\n",
    "        optimizer.zero_grad()\n",
    "        loss.backward()\n",
    "        optimizer.step()\n",
    "        loss_log.append(loss.item())\n",
    "    if epoch % 10 == 0:\n",
    "        # true regret\n",
    "        regret = pyepo.metric.regret(reg, ks_model, ks_loader_test)\n",
    "        regret_log.append(regret)\n",
    "        # unambiguous regret \n",
    "        unambregret = pyepo.metric.unambRegret(reg, ks_model, ks_loader_test)\n",
    "        unambregret_log.append(unambregret)\n",
    "        print(\"Epoch {:3}, Loss: {:8.4f}, Regret: {:7.4f}%, Unambiguous Regret: {:7.4f}%\". \\\n",
    "              format(epoch, loss.item(), regret*100, unambregret*100))"
   ]
  },
  {
   "cell_type": "code",
   "execution_count": 33,
   "id": "927bf5d7",
   "metadata": {},
   "outputs": [
    {
     "data": {
      "image/png": "[encoded data removed]",
      "text/plain": [
       "<Figure size 1152x576 with 1 Axes>"
      ]
     },
     "metadata": {
      "needs_background": "light"
     },
     "output_type": "display_data"
    }
   ],
   "source": [
    "# draw plot\n",
    "plt.figure(figsize=(16, 8))\n",
    "plt.plot(loss_log, color=\"c\", lw=2)\n",
    "plt.xticks(fontsize=28)\n",
    "plt.yticks(fontsize=28)\n",
    "plt.xlabel(\"Iters\", fontsize=36)\n",
    "plt.ylabel(\"Loss\", fontsize=36)\n",
    "plt.title(\"Learning Curve\", fontsize=36)\n",
    "plt.show()"
   ]
  },
  {
   "cell_type": "code",
   "execution_count": 34,
   "id": "8ae91bbd",
   "metadata": {},
   "outputs": [
    {
     "data": {
      "image/png": "[encoded data removed]",
      "text/plain": [
       "<Figure size 1152x576 with 1 Axes>"
      ]
     },
     "metadata": {
      "needs_background": "light"
     },
     "output_type": "display_data"
    }
   ],
   "source": [
    "# draw plot\n",
    "plt.figure(figsize=(16, 8))\n",
    "plt.plot(range(0, num_epochs, 10), regret_log, color=\"royalblue\", ls=\"--\", alpha=0.7, lw=5, label=\"Regret\")\n",
    "plt.plot(range(0, num_epochs, 10), unambregret_log, color=\"lightcoral\", ls=\":\", alpha=0.7, lw=6, label=\"Unambiguous Regret\")\n",
    "plt.xticks(fontsize=28)\n",
    "plt.yticks(fontsize=28)\n",
    "plt.xlabel(\"Epoch\", fontsize=36)\n",
    "plt.ylabel(\"Loss\", fontsize=36)\n",
    "plt.title(\"Learning Curve\", fontsize=36)\n",
    "plt.legend(fontsize=32)\n",
    "plt.show()"
   ]
  },
  {
   "cell_type": "code",
   "execution_count": 35,
   "id": "c8515a5d",
   "metadata": {},
   "outputs": [
    {
     "name": "stdout",
     "output_type": "stream",
     "text": [
      "Normalized Regret: 1.19%\n",
      "Normalized Unambiguous Regret: 1.19%\n"
     ]
    }
   ],
   "source": [
    "# evaluate\n",
    "regret = pyepo.metric.regret(reg, ks_model, ks_loader_test)\n",
    "print(\"Normalized Regret: {:.2f}%\".format(regret * 100))\n",
    "regret = pyepo.metric.unambRegret(reg, ks_model, ks_loader_test)\n",
    "print(\"Normalized Unambiguous Regret: {:.2f}%\".format(regret * 100))"
   ]
  },
  {
   "cell_type": "code",
   "execution_count": 36,
   "id": "738c1d73",
   "metadata": {
    "scrolled": false
   },
   "outputs": [
    {
     "name": "stdout",
     "output_type": "stream",
     "text": [
      "Sample 0:\n",
      "    True cost: 1.00, 2.00, 2.00, 1.00, 2.00, 2.00, 1.00, 3.00, 2.00, 2.00, 2.00, 1.00, 2.00, 2.00, 2.00, 2.00\n",
      "    Pred cost: -2.64, 0.40, 0.30, -2.24, 0.43, 2.33, -3.50, 2.72, -0.48, 1.80, 0.99, -1.27, -0.32, 1.07, 0.47, 0.39\n",
      "    True sol: 0, 0, 0, 0, 0, 1, 0, 0, 0, 1, 0, 0, 0, 0, 0, 0, True obj: 4.00\n",
      "    Pred sol: 0, 0, 0, 0, 0, 1, 0, 0, 0, 1, 0, 0, 0, 0, 0, 0, Pred obj: 4.00\n",
      "\n",
      "Sample 1:\n",
      "    True cost: 8.00, 12.00, 5.00, 13.00, 3.00, 3.00, 18.00, 3.00, 12.00, 7.00, 5.00, 12.00, 3.00, 8.00, 3.00, 12.00\n",
      "    Pred cost: 3.61, 6.39, -0.12, 7.11, -0.51, 2.77, 10.50, -1.04, 1.07, 0.69, 0.76, 4.98, 0.43, 3.54, -1.12, 5.34\n",
      "    True sol: 0, 0, 0, 0, 0, 0, 1, 0, 0, 0, 0, 0, 0, 0, 0, 0, True obj: 18.00\n",
      "    Pred sol: 0, 0, 0, 0, 0, 0, 1, 0, 0, 0, 0, 0, 0, 0, 0, 0, Pred obj: 18.00\n",
      "\n",
      "Sample 2:\n",
      "    True cost: 7.00, 2.00, 5.00, 5.00, 5.00, 5.00, 5.00, 3.00, 3.00, 4.00, 5.00, 2.00, 5.00, 3.00, 4.00, 3.00\n",
      "    Pred cost: 5.20, -2.03, -0.49, 3.44, -0.19, 4.23, 3.11, 1.27, -0.52, 2.36, 3.31, -2.37, 0.01, 1.60, 2.10, 0.58\n",
      "    True sol: 1, 0, 0, 0, 0, 1, 0, 0, 0, 0, 0, 0, 0, 0, 0, 0, True obj: 12.00\n",
      "    Pred sol: 1, 0, 0, 0, 0, 1, 0, 0, 0, 0, 0, 0, 0, 0, 0, 0, Pred obj: 12.00\n",
      "\n",
      "Sample 3:\n",
      "    True cost: 3.00, 1.00, 3.00, 3.00, 6.00, 6.00, 2.00, 3.00, 2.00, 2.00, 3.00, 1.00, 6.00, 4.00, 4.00, 2.00\n",
      "    Pred cost: 2.10, -4.41, -0.31, 2.85, 0.16, 4.45, -1.27, 2.15, -0.98, 1.24, 2.13, -3.37, 0.17, 3.81, 2.89, 0.23\n",
      "    True sol: 0, 0, 0, 0, 0, 1, 0, 0, 0, 0, 0, 0, 0, 1, 0, 0, True obj: 10.00\n",
      "    Pred sol: 0, 0, 0, 0, 0, 1, 0, 0, 0, 0, 0, 0, 0, 1, 0, 0, Pred obj: 10.00\n",
      "\n",
      "Sample 4:\n",
      "    True cost: 4.00, 15.00, 4.00, 5.00, 6.00, 6.00, 10.00, 3.00, 9.00, 7.00, 4.00, 40.00, 6.00, 15.00, 12.00, 9.00\n",
      "    Pred cost: -1.09, 6.36, 0.76, 3.04, 0.63, 2.62, 4.88, -3.22, 2.67, 1.53, -1.20, 14.44, 0.51, 8.13, 3.52, 4.23\n",
      "    True sol: 0, 0, 0, 0, 0, 0, 0, 0, 0, 0, 0, 1, 0, 0, 0, 0, True obj: 40.00\n",
      "    Pred sol: 0, 0, 0, 0, 0, 0, 0, 0, 0, 0, 0, 1, 0, 0, 0, 0, Pred obj: 40.00\n",
      "\n",
      "Sample 5:\n",
      "    True cost: 5.00, 4.00, 5.00, 5.00, 4.00, 4.00, 5.00, 3.00, 3.00, 3.00, 5.00, 2.00, 4.00, 4.00, 2.00, 3.00\n",
      "    Pred cost: 3.46, 1.68, -0.27, 3.41, -0.06, 4.01, 4.49, 0.97, -0.60, 0.58, 3.67, -2.39, -0.10, 2.79, -1.42, 1.05\n",
      "    True sol: 1, 0, 0, 0, 0, 1, 0, 0, 0, 0, 0, 0, 0, 0, 0, 0, True obj: 9.00\n",
      "    Pred sol: 0, 0, 0, 0, 0, 1, 0, 0, 0, 0, 1, 0, 0, 0, 0, 0, Pred obj: 9.00\n",
      "\n",
      "Sample 6:\n",
      "    True cost: 8.00, 4.00, 3.00, 6.00, 2.00, 2.00, 8.00, 3.00, 9.00, 10.00, 3.00, 9.00, 2.00, 2.00, 7.00, 9.00\n",
      "    Pred cost: 3.73, 0.68, -0.27, 3.68, -0.78, 1.44, 5.09, 1.01, 1.26, 5.09, -1.39, 4.68, 0.34, -2.18, 4.84, 4.73\n",
      "    True sol: 0, 0, 0, 0, 0, 1, 0, 0, 0, 1, 0, 0, 0, 0, 0, 0, True obj: 12.00\n",
      "    Pred sol: 0, 0, 0, 0, 0, 1, 0, 0, 0, 1, 0, 0, 0, 0, 0, 0, Pred obj: 12.00\n",
      "\n",
      "Sample 7:\n",
      "    True cost: 5.00, 3.00, 7.00, 7.00, 8.00, 8.00, 6.00, 3.00, 3.00, 2.00, 7.00, 2.00, 8.00, 9.00, 2.00, 3.00\n",
      "    Pred cost: 4.27, 1.16, -0.33, 5.46, 0.25, 5.68, 5.29, 0.04, -1.06, -1.60, 5.33, -3.45, 0.04, 7.03, -2.52, 0.14\n",
      "    True sol: 0, 0, 0, 0, 0, 1, 0, 0, 0, 0, 0, 0, 0, 1, 0, 0, True obj: 17.00\n",
      "    Pred sol: 0, 0, 0, 0, 0, 1, 0, 0, 0, 0, 0, 0, 0, 1, 0, 0, Pred obj: 17.00\n",
      "\n",
      "Sample 8:\n",
      "    True cost: 8.00, 4.00, 5.00, 4.00, 6.00, 6.00, 6.00, 3.00, 4.00, 7.00, 5.00, 9.00, 6.00, 5.00, 8.00, 4.00\n",
      "    Pred cost: 4.63, -0.14, -0.11, 2.20, 0.14, 3.85, 3.54, -0.69, 0.85, 3.56, 2.50, 4.35, 0.04, 2.85, 4.34, 0.81\n",
      "    True sol: 1, 0, 0, 0, 0, 1, 0, 0, 0, 0, 0, 0, 0, 0, 0, 0, True obj: 14.00\n",
      "    Pred sol: 1, 0, 0, 0, 0, 1, 0, 0, 0, 0, 0, 0, 0, 0, 0, 0, Pred obj: 14.00\n",
      "\n",
      "Sample 9:\n",
      "    True cost: 3.00, 2.00, 2.00, 5.00, 4.00, 4.00, 2.00, 3.00, 5.00, 3.00, 2.00, 3.00, 4.00, 4.00, 6.00, 5.00\n",
      "    Pred cost: -0.34, -2.63, -0.12, 4.47, -0.19, 2.78, -0.31, 2.20, -0.06, 1.48, -1.78, 0.72, 0.62, 3.28, 3.82, 3.81\n",
      "    True sol: 0, 0, 0, 0, 0, 1, 0, 0, 0, 0, 0, 0, 0, 1, 0, 0, True obj: 8.00\n",
      "    Pred sol: 0, 0, 0, 0, 0, 1, 0, 0, 0, 0, 0, 0, 0, 1, 0, 0, Pred obj: 8.00\n",
      "\n"
     ]
    }
   ],
   "source": [
    "reg.eval()\n",
    "# compare solutions\n",
    "for i, data in enumerate(ks_loader_test):\n",
    "    # load data\n",
    "    x, c, w, z = data\n",
    "    # cuda\n",
    "    if torch.cuda.is_available():\n",
    "        x, c, w, z = x.cuda(), c.cuda(), w.cuda(), z.cuda()\n",
    "    # predict\n",
    "    cp = reg(x)\n",
    "    # convert to numpy\n",
    "    x = x.to(\"cpu\").detach().numpy()\n",
    "    c = c.to(\"cpu\").detach().numpy()\n",
    "    w = w.to(\"cpu\").detach().numpy()\n",
    "    z = z.to(\"cpu\").detach().numpy()\n",
    "    cp = cp.to(\"cpu\").detach().numpy()\n",
    "    for j in range(min(10, batch_size)):\n",
    "        print(\"Sample {}:\".format(j))\n",
    "        print(\"    True cost:\", \", \".join([\"{:.2f}\".format(cost) for cost in c[j]]))\n",
    "        print(\"    Pred cost:\", \", \".join([\"{:.2f}\".format(cost) for cost in cp[j]]))\n",
    "        # solve cost from prediction\n",
    "        ks_model.setObj(cp[j])\n",
    "        wpj, _ = ks_model.solve()\n",
    "        zpj = np.dot(c[j], wpj)\n",
    "        print(\"    True sol: \" + \", \".join([\"{:.0f}\".format(x) for x in w[j]]) + \", True obj: {:.2f}\".format(z[j,0]))\n",
    "        print(\"    Pred sol: \"+  \", \".join([\"{:.0f}\".format(x) for x in wpj]) + \", Pred obj: {:.2f}\".format(zpj))\n",
    "        print()\n",
    "    break"
   ]
  },
  {
   "cell_type": "markdown",
   "id": "4df20405",
   "metadata": {},
   "source": [
    "## SPO+ Rel "
   ]
  },
  {
   "cell_type": "code",
   "execution_count": 37,
   "id": "71994d62",
   "metadata": {},
   "outputs": [],
   "source": [
    "# init model\n",
    "reg = LinearRegression()\n",
    "# cuda\n",
    "if torch.cuda.is_available():\n",
    "    reg = reg.cuda()"
   ]
  },
  {
   "cell_type": "code",
   "execution_count": 38,
   "id": "2e0f7a29",
   "metadata": {},
   "outputs": [],
   "source": [
    "# set optimizer\n",
    "optimizer = torch.optim.Adam(reg.parameters(), lr=1e-2)"
   ]
  },
  {
   "cell_type": "code",
   "execution_count": 39,
   "id": "e1840354",
   "metadata": {},
   "outputs": [
    {
     "name": "stdout",
     "output_type": "stream",
     "text": [
      "Num of cores: 4\n"
     ]
    }
   ],
   "source": [
    "# init SPO+ loss\n",
    "spop = pyepo.func.SPOPlus(ks_model_rel, processes=4)"
   ]
  },
  {
   "cell_type": "code",
   "execution_count": 40,
   "id": "f948e7ed",
   "metadata": {},
   "outputs": [
    {
     "name": "stdout",
     "output_type": "stream",
     "text": [
      "Epoch   0, Loss:  10.6394, Regret: 51.0926%, Unambiguous Regret: 51.0926%\n",
      "Epoch  10, Loss:   3.3179, Regret: 12.7465%, Unambiguous Regret: 12.7465%\n",
      "Epoch  20, Loss:  18.6558, Regret:  6.7152%, Unambiguous Regret:  6.7152%\n",
      "Epoch  30, Loss:   6.8176, Regret:  4.0593%, Unambiguous Regret:  4.0593%\n",
      "Epoch  40, Loss:   0.5977, Regret:  3.4642%, Unambiguous Regret:  3.4642%\n",
      "Epoch  50, Loss:   0.7527, Regret:  3.2155%, Unambiguous Regret:  3.2155%\n",
      "Epoch  60, Loss:   0.6627, Regret:  2.9579%, Unambiguous Regret:  2.9579%\n",
      "Epoch  70, Loss:   2.4217, Regret:  2.7269%, Unambiguous Regret:  2.7269%\n",
      "Epoch  80, Loss:   0.4713, Regret:  2.6026%, Unambiguous Regret:  2.6026%\n",
      "Epoch  90, Loss:   0.3417, Regret:  2.4516%, Unambiguous Regret:  2.4516%\n",
      "Epoch 100, Loss:   0.3302, Regret:  2.3539%, Unambiguous Regret:  2.3539%\n",
      "Epoch 110, Loss:   0.2541, Regret:  2.1496%, Unambiguous Regret:  2.1496%\n",
      "Epoch 120, Loss:   0.1925, Regret:  2.0430%, Unambiguous Regret:  2.0430%\n",
      "Epoch 130, Loss:   0.1178, Regret:  1.9808%, Unambiguous Regret:  1.9808%\n",
      "Epoch 140, Loss:   0.1139, Regret:  1.8831%, Unambiguous Regret:  1.8831%\n",
      "Epoch 150, Loss:   0.0846, Regret:  1.8831%, Unambiguous Regret:  1.8831%\n",
      "Epoch 160, Loss:   0.1916, Regret:  1.7765%, Unambiguous Regret:  1.7765%\n",
      "Epoch 170, Loss:   0.3654, Regret:  1.7321%, Unambiguous Regret:  1.7321%\n",
      "Epoch 180, Loss:   0.0361, Regret:  1.6699%, Unambiguous Regret:  1.6699%\n",
      "Epoch 190, Loss:   0.0861, Regret:  1.5811%, Unambiguous Regret:  1.5811%\n"
     ]
    }
   ],
   "source": [
    "# train model\n",
    "num_epochs = 200\n",
    "reg.train()\n",
    "loss_log = []\n",
    "regret_log = []\n",
    "unambregret_log = []\n",
    "for epoch in range(num_epochs):\n",
    "    # load data\n",
    "    for i, data in enumerate(ks_loader_train_rel):\n",
    "        x, c, w, z = data\n",
    "        # cuda\n",
    "        if torch.cuda.is_available():\n",
    "            x, c, w, z = x.cuda(), c.cuda(), w.cuda(), z.cuda()\n",
    "        # forward pass\n",
    "        cp = reg(x)\n",
    "        loss = spop(cp, c, w, z).mean()\n",
    "        # backward pass\n",
    "        optimizer.zero_grad()\n",
    "        loss.backward()\n",
    "        optimizer.step()\n",
    "        loss_log.append(loss.item())\n",
    "    if epoch % 10 == 0:\n",
    "        # true regret\n",
    "        regret = pyepo.metric.regret(reg, ks_model, ks_loader_test)\n",
    "        regret_log.append(regret)\n",
    "        # unambiguous regret \n",
    "        unambregret = pyepo.metric.unambRegret(reg, ks_model, ks_loader_test)\n",
    "        unambregret_log.append(unambregret)\n",
    "        print(\"Epoch {:3}, Loss: {:8.4f}, Regret: {:7.4f}%, Unambiguous Regret: {:7.4f}%\". \\\n",
    "              format(epoch, loss.item(), regret*100, unambregret*100))"
   ]
  },
  {
   "cell_type": "code",
   "execution_count": 41,
   "id": "ac94f9c5",
   "metadata": {},
   "outputs": [
    {
     "data": {
      "image/png": "[encoded data removed]",
      "text/plain": [
       "<Figure size 1152x576 with 1 Axes>"
      ]
     },
     "metadata": {
      "needs_background": "light"
     },
     "output_type": "display_data"
    }
   ],
   "source": [
    "# draw plot\n",
    "plt.figure(figsize=(16, 8))\n",
    "plt.plot(loss_log, color=\"c\", lw=2)\n",
    "plt.xticks(fontsize=28)\n",
    "plt.yticks(fontsize=28)\n",
    "plt.xlabel(\"Iters\", fontsize=36)\n",
    "plt.ylabel(\"Loss\", fontsize=36)\n",
    "plt.title(\"Learning Curve\", fontsize=36)\n",
    "plt.show()"
   ]
  },
  {
   "cell_type": "code",
   "execution_count": 42,
   "id": "4c32ae91",
   "metadata": {},
   "outputs": [
    {
     "data": {
      "image/png": "[encoded data removed]",
      "text/plain": [
       "<Figure size 1152x576 with 1 Axes>"
      ]
     },
     "metadata": {
      "needs_background": "light"
     },
     "output_type": "display_data"
    }
   ],
   "source": [
    "# draw plot\n",
    "plt.figure(figsize=(16, 8))\n",
    "plt.plot(range(0, num_epochs, 10), regret_log, color=\"royalblue\", ls=\"--\", alpha=0.7, lw=5, label=\"Regret\")\n",
    "plt.plot(range(0, num_epochs, 10), unambregret_log, color=\"lightcoral\", ls=\":\", alpha=0.7, lw=6, label=\"Unambiguous Regret\")\n",
    "plt.xticks(fontsize=28)\n",
    "plt.yticks(fontsize=28)\n",
    "plt.xlabel(\"Epoch\", fontsize=36)\n",
    "plt.ylabel(\"Loss\", fontsize=36)\n",
    "plt.title(\"Learning Curve\", fontsize=36)\n",
    "plt.legend(fontsize=32)\n",
    "plt.show()"
   ]
  },
  {
   "cell_type": "code",
   "execution_count": 43,
   "id": "8625b1cb",
   "metadata": {},
   "outputs": [
    {
     "name": "stdout",
     "output_type": "stream",
     "text": [
      "Normalized Regret: 1.71%\n",
      "Normalized Unambiguous Regret: 1.71%\n"
     ]
    }
   ],
   "source": [
    "# evaluate\n",
    "regret = pyepo.metric.regret(reg, ks_model, ks_loader_test)\n",
    "print(\"Normalized Regret: {:.2f}%\".format(regret * 100))\n",
    "regret = pyepo.metric.unambRegret(reg, ks_model, ks_loader_test)\n",
    "print(\"Normalized Unambiguous Regret: {:.2f}%\".format(regret * 100))"
   ]
  },
  {
   "cell_type": "code",
   "execution_count": 44,
   "id": "4dd188e3",
   "metadata": {
    "scrolled": false
   },
   "outputs": [
    {
     "name": "stdout",
     "output_type": "stream",
     "text": [
      "Sample 0:\n",
      "    True cost: 1.00, 2.00, 2.00, 1.00, 2.00, 2.00, 1.00, 3.00, 2.00, 2.00, 2.00, 1.00, 2.00, 2.00, 2.00, 2.00\n",
      "    Pred cost: -1.89, -0.16, 0.67, -2.52, 2.08, 2.68, -4.17, 2.75, -0.36, 0.87, 0.63, -1.32, 2.12, 0.67, 1.88, -0.42\n",
      "    True sol: 0, 0, 0, 0, 0, 1, 0, 0, 0, 1, 0, 0, 0, 0, 0, 0, True obj: 4.00\n",
      "    Pred sol: 0, 0, 0, 0, 0, 1, 0, 0, 0, 1, 0, 0, 0, 0, 0, 0, Pred obj: 4.00\n",
      "\n",
      "Sample 1:\n",
      "    True cost: 8.00, 12.00, 5.00, 13.00, 3.00, 3.00, 18.00, 3.00, 12.00, 7.00, 5.00, 12.00, 3.00, 8.00, 3.00, 12.00\n",
      "    Pred cost: 3.92, 6.98, 2.53, 5.65, -3.34, 0.41, 9.92, -2.98, 7.30, 2.66, 2.46, 7.10, -2.69, 3.84, 0.73, 5.94\n",
      "    True sol: 0, 0, 0, 0, 0, 0, 1, 0, 0, 0, 0, 0, 0, 0, 0, 0, True obj: 18.00\n",
      "    Pred sol: 0, 0, 0, 0, 0, 0, 1, 0, 0, 0, 0, 0, 0, 0, 0, 0, Pred obj: 18.00\n",
      "\n",
      "Sample 2:\n",
      "    True cost: 7.00, 2.00, 5.00, 5.00, 5.00, 5.00, 5.00, 3.00, 3.00, 4.00, 5.00, 2.00, 5.00, 3.00, 4.00, 3.00\n",
      "    Pred cost: 5.78, -2.12, 4.16, 3.86, 2.92, 3.55, 3.08, 0.48, 1.40, 3.17, 4.02, 0.18, 2.21, 1.64, 2.78, 0.76\n",
      "    True sol: 1, 0, 0, 0, 0, 1, 0, 0, 0, 0, 0, 0, 0, 0, 0, 0, True obj: 12.00\n",
      "    Pred sol: 1, 0, 0, 0, 0, 1, 0, 0, 0, 0, 0, 0, 0, 0, 0, 0, Pred obj: 12.00\n",
      "\n",
      "Sample 3:\n",
      "    True cost: 3.00, 1.00, 3.00, 3.00, 6.00, 6.00, 2.00, 3.00, 2.00, 2.00, 3.00, 1.00, 6.00, 4.00, 4.00, 2.00\n",
      "    Pred cost: 2.64, -4.86, 2.16, 3.66, 5.61, 5.27, -1.15, 1.95, -0.39, 1.34, 2.30, -1.45, 5.26, 3.42, 3.74, -0.12\n",
      "    True sol: 0, 0, 0, 0, 0, 1, 0, 0, 0, 0, 0, 0, 0, 1, 0, 0, True obj: 10.00\n",
      "    Pred sol: 0, 0, 0, 0, 0, 1, 0, 0, 0, 0, 0, 0, 0, 1, 0, 0, Pred obj: 10.00\n",
      "\n",
      "Sample 4:\n",
      "    True cost: 4.00, 15.00, 4.00, 5.00, 6.00, 6.00, 10.00, 3.00, 9.00, 7.00, 4.00, 40.00, 6.00, 15.00, 12.00, 9.00\n",
      "    Pred cost: -0.90, 7.08, -1.54, 0.56, 0.92, 3.58, 4.90, -2.52, 4.15, 3.20, -0.41, 15.05, 2.87, 7.85, 5.24, 3.99\n",
      "    True sol: 0, 0, 0, 0, 0, 0, 0, 0, 0, 0, 0, 1, 0, 0, 0, 0, True obj: 40.00\n",
      "    Pred sol: 0, 0, 0, 0, 0, 0, 0, 0, 0, 0, 0, 1, 0, 0, 0, 0, Pred obj: 40.00\n",
      "\n",
      "Sample 5:\n",
      "    True cost: 5.00, 4.00, 5.00, 5.00, 4.00, 4.00, 5.00, 3.00, 3.00, 3.00, 5.00, 2.00, 4.00, 4.00, 2.00, 3.00\n",
      "    Pred cost: 3.70, 1.35, 4.71, 3.20, 0.90, 2.94, 4.04, -0.42, 2.13, 1.05, 4.35, -0.34, 1.23, 2.84, 0.16, 0.76\n",
      "    True sol: 1, 0, 0, 0, 0, 1, 0, 0, 0, 0, 0, 0, 0, 0, 0, 0, True obj: 9.00\n",
      "    Pred sol: 0, 0, 0, 0, 0, 1, 0, 0, 0, 0, 1, 0, 0, 0, 0, 0, Pred obj: 9.00\n",
      "\n",
      "Sample 6:\n",
      "    True cost: 8.00, 4.00, 3.00, 6.00, 2.00, 2.00, 8.00, 3.00, 9.00, 10.00, 3.00, 9.00, 2.00, 2.00, 7.00, 9.00\n",
      "    Pred cost: 5.11, 1.68, -0.15, 3.14, -1.69, -0.67, 4.78, 0.31, 5.95, 6.89, 0.01, 6.43, -3.51, -1.94, 5.05, 6.22\n",
      "    True sol: 0, 0, 0, 0, 0, 1, 0, 0, 0, 1, 0, 0, 0, 0, 0, 0, True obj: 12.00\n",
      "    Pred sol: 0, 0, 0, 0, 0, 0, 0, 0, 0, 1, 0, 0, 0, 0, 0, 0, Pred obj: 10.00\n",
      "\n",
      "Sample 7:\n",
      "    True cost: 5.00, 3.00, 7.00, 7.00, 8.00, 8.00, 6.00, 3.00, 3.00, 2.00, 7.00, 2.00, 8.00, 9.00, 2.00, 3.00\n",
      "    Pred cost: 3.92, 0.47, 6.23, 5.43, 3.26, 5.54, 5.15, -1.44, 1.00, -1.09, 5.96, -0.76, 4.68, 6.96, -0.49, -0.74\n",
      "    True sol: 0, 0, 0, 0, 0, 1, 0, 0, 0, 0, 0, 0, 0, 1, 0, 0, True obj: 17.00\n",
      "    Pred sol: 0, 0, 0, 0, 0, 1, 0, 0, 0, 0, 0, 0, 0, 1, 0, 0, Pred obj: 17.00\n",
      "\n",
      "Sample 8:\n",
      "    True cost: 8.00, 4.00, 5.00, 4.00, 6.00, 6.00, 6.00, 3.00, 4.00, 7.00, 5.00, 9.00, 6.00, 5.00, 8.00, 4.00\n",
      "    Pred cost: 5.19, 0.21, 2.82, 1.70, 3.10, 3.89, 3.74, -0.47, 1.51, 4.86, 3.20, 6.51, 2.86, 2.86, 4.85, 1.02\n",
      "    True sol: 1, 0, 0, 0, 0, 1, 0, 0, 0, 0, 0, 0, 0, 0, 0, 0, True obj: 14.00\n",
      "    Pred sol: 1, 0, 0, 0, 0, 1, 0, 0, 0, 0, 0, 0, 0, 0, 0, 0, Pred obj: 14.00\n",
      "\n",
      "Sample 9:\n",
      "    True cost: 3.00, 2.00, 2.00, 5.00, 4.00, 4.00, 2.00, 3.00, 5.00, 3.00, 2.00, 3.00, 4.00, 4.00, 6.00, 5.00\n",
      "    Pred cost: 0.56, -2.51, -1.57, 4.69, 2.87, 2.99, -0.40, 1.81, 2.97, 2.12, -1.17, 1.97, 2.30, 2.86, 4.79, 4.11\n",
      "    True sol: 0, 0, 0, 0, 0, 1, 0, 0, 0, 0, 0, 0, 0, 1, 0, 0, True obj: 8.00\n",
      "    Pred sol: 0, 0, 0, 0, 0, 1, 0, 0, 0, 0, 0, 0, 0, 1, 0, 0, Pred obj: 8.00\n",
      "\n"
     ]
    }
   ],
   "source": [
    "reg.eval()\n",
    "# compare solutions\n",
    "for i, data in enumerate(ks_loader_test):\n",
    "    # load data\n",
    "    x, c, w, z = data\n",
    "    # cuda\n",
    "    if torch.cuda.is_available():\n",
    "        x, c, w, z = x.cuda(), c.cuda(), w.cuda(), z.cuda()\n",
    "    # predict\n",
    "    cp = reg(x)\n",
    "    # convert to numpy\n",
    "    x = x.to(\"cpu\").detach().numpy()\n",
    "    c = c.to(\"cpu\").detach().numpy()\n",
    "    w = w.to(\"cpu\").detach().numpy()\n",
    "    z = z.to(\"cpu\").detach().numpy()\n",
    "    cp = cp.to(\"cpu\").detach().numpy()\n",
    "    for j in range(min(10, batch_size)):\n",
    "        print(\"Sample {}:\".format(j))\n",
    "        print(\"    True cost:\", \", \".join([\"{:.2f}\".format(cost) for cost in c[j]]))\n",
    "        print(\"    Pred cost:\", \", \".join([\"{:.2f}\".format(cost) for cost in cp[j]]))\n",
    "        # solve cost from prediction\n",
    "        ks_model.setObj(cp[j])\n",
    "        wpj, _ = ks_model.solve()\n",
    "        zpj = np.dot(c[j], wpj)\n",
    "        print(\"    True sol: \" + \", \".join([\"{:.0f}\".format(x) for x in w[j]]) + \", True obj: {:.2f}\".format(z[j,0]))\n",
    "        print(\"    Pred sol: \"+  \", \".join([\"{:.0f}\".format(x) for x in wpj]) + \", Pred obj: {:.2f}\".format(zpj))\n",
    "        print()\n",
    "    break"
   ]
  },
  {
   "cell_type": "code",
   "execution_count": null,
   "id": "fec97b2c",
   "metadata": {},
   "outputs": [],
   "source": []
  }
 ],
 "metadata": {
  "kernelspec": {
   "display_name": "Python 3 (ipykernel)",
   "language": "python",
   "name": "python3"
  },
  "language_info": {
   "codemirror_mode": {
    "name": "ipython",
    "version": 3
   },
   "file_extension": ".py",
   "mimetype": "text/x-python",
   "name": "python",
   "nbconvert_exporter": "python",
   "pygments_lexer": "ipython3",
   "version": "3.9.13"
  }
 },
 "nbformat": 4,
 "nbformat_minor": 5
}
