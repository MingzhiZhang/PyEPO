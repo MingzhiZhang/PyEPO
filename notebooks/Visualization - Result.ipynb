{
 "cells": [
  {
   "cell_type": "code",
   "execution_count": 1,
   "id": "bfd66fb1",
   "metadata": {},
   "outputs": [],
   "source": [
    "# set work dir\n",
    "import os\n",
    "os.chdir(\"../pkg\")"
   ]
  },
  {
   "cell_type": "code",
   "execution_count": 2,
   "id": "16b7b37f",
   "metadata": {},
   "outputs": [
    {
     "name": "stdout",
     "output_type": "stream",
     "text": [
      "Auto-Sklearn cannot be imported.\n"
     ]
    },
    {
     "data": {
      "text/plain": [
       "<torch._C.Generator at 0x1ef009baa90>"
      ]
     },
     "execution_count": 2,
     "metadata": {},
     "output_type": "execute_result"
    }
   ],
   "source": [
    "import time\n",
    "import pyepo\n",
    "import torch\n",
    "from matplotlib import pyplot as plt\n",
    "plt.style.reload_library()\n",
    "plt.style.use(\"science\")\n",
    "import tol_colors as tc\n",
    "import numpy as np\n",
    "from tqdm import tqdm\n",
    "torch.manual_seed(135)"
   ]
  },
  {
   "cell_type": "code",
   "execution_count": 3,
   "id": "b938ed85",
   "metadata": {},
   "outputs": [],
   "source": [
    "def plotSol(m, c, w, weights, caps, caption=None):\n",
    "    # colors\n",
    "    cmap = tc.tol_cmap(\"iridescent\")(np.linspace(0, 1, m))\n",
    "    # get list\n",
    "    sol, val, cap1, cap2 = [], [], [], []\n",
    "    for i in range(m):\n",
    "        sol.append(3)\n",
    "        val.append(c[i] * w[i])\n",
    "        cap1.append(weights[0,i] * w[i])\n",
    "        cap2.append(weights[1,i] * w[i])\n",
    "    # init fig\n",
    "    fig = plt.figure(figsize=(8,4))\n",
    "    plt.gca().invert_yaxis()\n",
    "    acc = [0, 0, 0, 0]\n",
    "    # bar plot\n",
    "    for i in range(m):\n",
    "        bar = [sol[i], val[i], cap1[i], cap2[i]]\n",
    "        plt.barh(range(4), bar, left=acc, color=cmap[i], height=0.75, edgecolor=\"w\", linewidth=2)\n",
    "        # not selected\n",
    "        if not int(w[i]):\n",
    "            # grey color\n",
    "            bar = [sol[i], 0, 0, 0]\n",
    "            plt.barh(range(4), bar, left=acc, color=\"lightgrey\", height=0.75, edgecolor=\"w\", linewidth=2)\n",
    "        acc = [acc[0]+sol[i], acc[1]+val[i], acc[2]+cap1[i], acc[3]+cap2[i]]\n",
    "    # total value\n",
    "    tval = sum(val)\n",
    "    plt.text(tval+0.5, 1.1, tval, fontsize=20)\n",
    "    # vertical line\n",
    "    plt.axvline(x=caps[0], ymin=0.27, ymax=0.48, color=\"firebrick\", linewidth=1.5)\n",
    "    plt.text(caps[0]+0.5, 2.1, \"Capacity 1\", fontsize=20, color=\"firebrick\")\n",
    "    plt.axvline(x=caps[1], ymin=0.03, ymax=0.24, color=\"firebrick\", linewidth=1.5)\n",
    "    plt.text(caps[1]+0.5, 3.1, \"Capacity 2\", fontsize=20, color=\"firebrick\")\n",
    "    # labels and ticks\n",
    "    plt.xticks([])\n",
    "    plt.yticks(range(4), [\"Items Selection\", \"Items Value\", \"Resource 1\", \"Resource 2\"], fontsize=28)\n",
    "    plt.minorticks_off()\n",
    "    plt.tick_params(axis='both', length=0)\n",
    "    plt.gca().spines[\"right\"].set_visible(False)\n",
    "    plt.gca().spines[\"top\"].set_visible(False)\n",
    "    plt.gca().spines[\"bottom\"].set_visible(False)\n",
    "    plt.title(caption, fontsize=30)\n",
    "    plt.show()\n",
    "    return fig"
   ]
  },
  {
   "cell_type": "markdown",
   "id": "4da218c8",
   "metadata": {},
   "source": [
    "## Init Data"
   ]
  },
  {
   "cell_type": "code",
   "execution_count": 4,
   "id": "abc99e79",
   "metadata": {},
   "outputs": [],
   "source": [
    "# generate data for grid network (features and costs)\n",
    "m = 16 # number of items\n",
    "n = 100 # number of data\n",
    "p = 5 # size of feature\n",
    "deg = 4 # polynomial degree\n",
    "dim = 2 # dimension of knapsack\n",
    "noise_width = 0.5 # noise half-width\n",
    "caps = [20] * dim # capacity\n",
    "weights, x, c = pyepo.data.knapsack.genData(n+1000, p, m, deg=deg, dim=dim, noise_width=noise_width)"
   ]
  },
  {
   "cell_type": "markdown",
   "id": "f562c8d5",
   "metadata": {},
   "source": [
    "## Optimization Model"
   ]
  },
  {
   "cell_type": "code",
   "execution_count": 5,
   "id": "32c4f29c",
   "metadata": {},
   "outputs": [
    {
     "name": "stdout",
     "output_type": "stream",
     "text": [
      "Set parameter Username\n",
      "Academic license - for non-commercial use only - expires 2023-07-09\n"
     ]
    }
   ],
   "source": [
    "optmodel = pyepo.model.grb.knapsackModel(weights, caps)"
   ]
  },
  {
   "cell_type": "markdown",
   "id": "b15e613f",
   "metadata": {},
   "source": [
    "## Data Loader"
   ]
  },
  {
   "cell_type": "code",
   "execution_count": 6,
   "id": "b24ed57e",
   "metadata": {},
   "outputs": [],
   "source": [
    "from sklearn.model_selection import train_test_split\n",
    "from torch.utils.data import DataLoader"
   ]
  },
  {
   "cell_type": "code",
   "execution_count": 7,
   "id": "68b7625e",
   "metadata": {},
   "outputs": [],
   "source": [
    "# data split\n",
    "x_train, x_test, c_train, c_test = train_test_split(x, c, test_size=1000, random_state=246)"
   ]
  },
  {
   "cell_type": "code",
   "execution_count": 8,
   "id": "c39be670",
   "metadata": {},
   "outputs": [
    {
     "name": "stdout",
     "output_type": "stream",
     "text": [
      "Optimizing for optDataset...\n"
     ]
    },
    {
     "name": "stderr",
     "output_type": "stream",
     "text": [
      "100%|████████████████████████████████████████████████████████████████████████████████████████████████| 100/100 [00:00<00:00, 719.28it/s]\n"
     ]
    }
   ],
   "source": [
    "# get training data set\n",
    "ks_dataset_train = pyepo.data.dataset.optDataset(optmodel, x_train, c_train)"
   ]
  },
  {
   "cell_type": "code",
   "execution_count": 9,
   "id": "aae31ae3",
   "metadata": {},
   "outputs": [
    {
     "name": "stdout",
     "output_type": "stream",
     "text": [
      "Optimizing for optDataset...\n"
     ]
    },
    {
     "name": "stderr",
     "output_type": "stream",
     "text": [
      "100%|██████████████████████████████████████████████████████████████████████████████████████████████| 1000/1000 [00:01<00:00, 762.05it/s]\n"
     ]
    }
   ],
   "source": [
    "# get test data set\n",
    "ks_dataset_test = pyepo.data.dataset.optDataset(optmodel, x_test, c_test)"
   ]
  },
  {
   "cell_type": "code",
   "execution_count": 10,
   "id": "a97e7682",
   "metadata": {},
   "outputs": [],
   "source": [
    "# get data loader\n",
    "batch_size = 32\n",
    "ks_loader_train = DataLoader(ks_dataset_train, batch_size=batch_size, shuffle=True)\n",
    "ks_loader_test = DataLoader(ks_dataset_test, batch_size=1, shuffle=False)"
   ]
  },
  {
   "cell_type": "markdown",
   "id": "831426f0",
   "metadata": {},
   "source": [
    "## Instance Selection"
   ]
  },
  {
   "cell_type": "code",
   "execution_count": 11,
   "id": "421ef35d",
   "metadata": {},
   "outputs": [],
   "source": [
    "ind = 0"
   ]
  },
  {
   "cell_type": "markdown",
   "id": "7b3eaa15",
   "metadata": {},
   "source": [
    "## Optimal Solution"
   ]
  },
  {
   "cell_type": "code",
   "execution_count": 12,
   "id": "6ac4cbd6",
   "metadata": {},
   "outputs": [
    {
     "data": {
      "image/png": "[encoded data removed]",
      "text/plain": [
       "<Figure size 576x288 with 1 Axes>"
      ]
     },
     "metadata": {
      "needs_background": "light"
     },
     "output_type": "display_data"
    }
   ],
   "source": [
    "# compare solutions\n",
    "for i, data in enumerate(ks_loader_test):\n",
    "    # load data\n",
    "    x, c, w, z = data\n",
    "    # convert to numpy\n",
    "    x = x.to(\"cpu\").detach().numpy()[0]\n",
    "    c = c.to(\"cpu\").detach().numpy()[0]\n",
    "    w = w.to(\"cpu\").detach().numpy()[0]\n",
    "    z = z.to(\"cpu\").detach().numpy()[0]\n",
    "    if i == ind:\n",
    "        fig = plotSol(m, c, w, weights, caps, \"Optimal Solution\")\n",
    "        fig.savefig(\"../images/ins-ks2-opt.pdf\", dpi=300)\n",
    "        break"
   ]
  },
  {
   "cell_type": "markdown",
   "id": "11057213",
   "metadata": {},
   "source": [
    "## Two-Stage "
   ]
  },
  {
   "cell_type": "code",
   "execution_count": 13,
   "id": "0b52ee08",
   "metadata": {},
   "outputs": [],
   "source": [
    "from sklearn.linear_model import LinearRegression"
   ]
  },
  {
   "cell_type": "code",
   "execution_count": 14,
   "id": "8ef51401",
   "metadata": {},
   "outputs": [],
   "source": [
    "# prediction model\n",
    "reg = LinearRegression()\n",
    "# build model\n",
    "twostage_model = pyepo.twostage.sklearnPred(reg)"
   ]
  },
  {
   "cell_type": "code",
   "execution_count": 15,
   "id": "70deab9a",
   "metadata": {},
   "outputs": [
    {
     "data": {
      "text/plain": [
       "MultiOutputRegressor(estimator=LinearRegression())"
      ]
     },
     "execution_count": 15,
     "metadata": {},
     "output_type": "execute_result"
    }
   ],
   "source": [
    "# training\n",
    "twostage_model.fit(ks_dataset_train.feats, ks_dataset_train.costs)"
   ]
  },
  {
   "cell_type": "code",
   "execution_count": 16,
   "id": "193dbc80",
   "metadata": {},
   "outputs": [
    {
     "data": {
      "image/png": "[encoded data removed]",
      "text/plain": [
       "<Figure size 576x288 with 1 Axes>"
      ]
     },
     "metadata": {
      "needs_background": "light"
     },
     "output_type": "display_data"
    }
   ],
   "source": [
    "# compare solutions\n",
    "for i, data in enumerate(ks_loader_test):\n",
    "    # load data\n",
    "    x, c, w, z = data\n",
    "    # convert to numpy\n",
    "    x = x.to(\"cpu\").detach().numpy()\n",
    "    c = c.to(\"cpu\").detach().numpy()[0]\n",
    "    w = w.to(\"cpu\").detach().numpy()[0]\n",
    "    z = z.to(\"cpu\").detach().numpy()[0]\n",
    "    # predict\n",
    "    cp = twostage_model.predict(x)\n",
    "    if i == ind:\n",
    "        # solve\n",
    "        optmodel.setObj(cp[0])\n",
    "        wp, _ = optmodel.solve()\n",
    "        fig = plotSol(m, c, wp, weights, caps, \"Two-Stage with Linear Regression\")\n",
    "        fig.savefig(\"../images/ins-ks2-2s.pdf\", dpi=300)\n",
    "        break"
   ]
  },
  {
   "cell_type": "markdown",
   "id": "b16689c9",
   "metadata": {},
   "source": [
    "## SPO+ "
   ]
  },
  {
   "cell_type": "code",
   "execution_count": 17,
   "id": "f510356c",
   "metadata": {},
   "outputs": [],
   "source": [
    "from torch import nn"
   ]
  },
  {
   "cell_type": "code",
   "execution_count": 18,
   "id": "4b8c4bff",
   "metadata": {},
   "outputs": [],
   "source": [
    "# build linear model\n",
    "class LinearRegression(nn.Module):\n",
    "    \n",
    "    def __init__(self):\n",
    "        super(LinearRegression, self).__init__()\n",
    "        self.linear = nn.Linear(p, m)\n",
    "    \n",
    "    def forward(self, x):\n",
    "        out = self.linear(x)\n",
    "        return out"
   ]
  },
  {
   "cell_type": "code",
   "execution_count": 19,
   "id": "25c87ace",
   "metadata": {},
   "outputs": [],
   "source": [
    "# init model\n",
    "reg = LinearRegression()\n",
    "# cuda\n",
    "if torch.cuda.is_available():\n",
    "    reg = reg.cuda()"
   ]
  },
  {
   "cell_type": "code",
   "execution_count": 20,
   "id": "06b926da",
   "metadata": {},
   "outputs": [],
   "source": [
    "# set optimizer\n",
    "optimizer = torch.optim.Adam(reg.parameters(), lr=1e-2)"
   ]
  },
  {
   "cell_type": "code",
   "execution_count": 21,
   "id": "e4b33c6b",
   "metadata": {},
   "outputs": [
    {
     "name": "stdout",
     "output_type": "stream",
     "text": [
      "Num of cores: 4\n"
     ]
    }
   ],
   "source": [
    "# init SPO+ loss\n",
    "spop = pyepo.func.SPOPlus(optmodel, processes=4)"
   ]
  },
  {
   "cell_type": "code",
   "execution_count": 22,
   "id": "b8715259",
   "metadata": {},
   "outputs": [
    {
     "name": "stdout",
     "output_type": "stream",
     "text": [
      "Epoch   2, Loss:  30.4877, Regret: 31.8955%\n",
      "Epoch   4, Loss:  33.9365, Regret: 26.3335%\n",
      "Epoch   6, Loss:  22.4347, Regret: 20.9621%\n",
      "Epoch   8, Loss:  10.1389, Regret: 17.1682%\n",
      "Epoch  10, Loss:  15.1659, Regret: 14.5928%\n",
      "Epoch  12, Loss:  13.4411, Regret: 12.4808%\n",
      "Epoch  14, Loss:  17.6854, Regret: 10.9595%\n",
      "Epoch  16, Loss:  27.3442, Regret:  9.8830%\n",
      "Epoch  18, Loss:  14.0152, Regret:  8.9448%\n",
      "Epoch  20, Loss:  27.6859, Regret:  8.4140%\n"
     ]
    }
   ],
   "source": [
    "# train model\n",
    "num_epochs = 20\n",
    "reg.train()\n",
    "loss_log = []\n",
    "loss_log_truespo = []\n",
    "loss_log_unambspo = []\n",
    "for epoch in range(num_epochs):\n",
    "    # load data\n",
    "    for i, data in enumerate(ks_loader_train):\n",
    "        x, c, w, z = data\n",
    "        # cuda\n",
    "        if torch.cuda.is_available():\n",
    "            x, c, w, z = x.cuda(), c.cuda(), w.cuda(), z.cuda()\n",
    "        # forward pass\n",
    "        cp = reg(x)\n",
    "        loss = spop(cp, c, w, z).mean()\n",
    "        # backward pass\n",
    "        optimizer.zero_grad()\n",
    "        loss.backward()\n",
    "        optimizer.step()\n",
    "    loss_log.append(loss.item())\n",
    "    if (epoch + 1) % 2 == 0:\n",
    "        # true SPO\n",
    "        trueloss = pyepo.metric.regret(reg, optmodel, ks_loader_test)\n",
    "        loss_log_truespo.append(trueloss)\n",
    "        print(\"Epoch {:3}, Loss: {:8.4f}, Regret: {:7.4f}%\".format(epoch+1, loss.item(), trueloss*100))"
   ]
  },
  {
   "cell_type": "code",
   "execution_count": 23,
   "id": "4bc26258",
   "metadata": {},
   "outputs": [
    {
     "data": {
      "image/png": "[encoded data removed]",
      "text/plain": [
       "<Figure size 576x288 with 1 Axes>"
      ]
     },
     "metadata": {
      "needs_background": "light"
     },
     "output_type": "display_data"
    }
   ],
   "source": [
    "# compare solutions\n",
    "for i, data in enumerate(ks_loader_test):\n",
    "    # load data\n",
    "    x, c, w, z = data\n",
    "    # cuda\n",
    "    if torch.cuda.is_available():\n",
    "        x, c, w, z = x.cuda(), c.cuda(), w.cuda(), z.cuda()\n",
    "    # predict\n",
    "    cp = reg(x)\n",
    "    # convert to numpy\n",
    "    x = x.to(\"cpu\").detach().numpy()\n",
    "    c = c.to(\"cpu\").detach().numpy()[0]\n",
    "    w = w.to(\"cpu\").detach().numpy()[0]\n",
    "    z = z.to(\"cpu\").detach().numpy()[0]\n",
    "    cp = cp.to(\"cpu\").detach().numpy()\n",
    "    if i == ind:\n",
    "        # solve\n",
    "        optmodel.setObj(cp[0])\n",
    "        wp, _ = optmodel.solve()\n",
    "        fig = plotSol(m, c, wp, weights, caps, \"SPO+\")\n",
    "        fig.savefig(\"../images/ins-ks2-spo.pdf\", dpi=300)\n",
    "        break"
   ]
  },
  {
   "cell_type": "code",
   "execution_count": null,
   "id": "8871737c",
   "metadata": {},
   "outputs": [],
   "source": []
  }
 ],
 "metadata": {
  "kernelspec": {
   "display_name": "Python 3 (ipykernel)",
   "language": "python",
   "name": "python3"
  },
  "language_info": {
   "codemirror_mode": {
    "name": "ipython",
    "version": 3
   },
   "file_extension": ".py",
   "mimetype": "text/x-python",
   "name": "python",
   "nbconvert_exporter": "python",
   "pygments_lexer": "ipython3",
   "version": "3.9.12"
  }
 },
 "nbformat": 4,
 "nbformat_minor": 5
}
